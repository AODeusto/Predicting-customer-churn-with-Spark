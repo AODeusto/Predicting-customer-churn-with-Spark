{
 "cells": [
  {
   "cell_type": "markdown",
   "metadata": {},
   "source": [
    "# Sparkify Project Workspace\n",
    "This workspace contains a tiny subset (128MB) of the full dataset available (12GB). Feel free to use this workspace to build your project, or to explore a smaller subset with Spark before deploying your cluster on the cloud. Instructions for setting up your Spark cluster is included in the last lesson of the Extracurricular Spark Course content.\n",
    "\n",
    "You can follow the steps below to guide your data analysis and model building portion of this project."
   ]
  },
  {
   "cell_type": "code",
   "execution_count": 1,
   "metadata": {},
   "outputs": [],
   "source": [
    "# import libraries\n",
    "\n",
    "import pandas as pd\n",
    "import numpy as np\n",
    "from matplotlib import pyplot as plt\n",
    "%matplotlib inline\n",
    "\n",
    "import datetime\n",
    "import time\n",
    "import re\n",
    "from functools import reduce \n",
    "\n",
    "# Import PySpark SQL libraries\n",
    "from pyspark.sql import SparkSession\n",
    "from pyspark.sql import Window\n",
    "from pyspark.sql.functions import udf\n",
    "from pyspark.sql.types import StringType, IntegerType\n",
    "from pyspark.sql.functions import desc, asc, substring, col, when, desc, \\\n",
    "split, udf, count, countDistinct, rand, struct, isnan, isnull, from_unixtime, dayofmonth, \\\n",
    "month, datediff, to_date, lit, current_date \n",
    "\n",
    "from pyspark.sql.functions import sum as Fsum\n",
    "from pyspark.sql import functions as sF\n",
    "from pyspark.sql import types as sT\n",
    "\n",
    "# Import Machine Learning PySpark libraries\n",
    "from pyspark.ml.feature import Normalizer, StandardScaler, VectorAssembler\n",
    "from pyspark.ml.classification import DecisionTreeClassifier, GBTClassifier, LogisticRegression, MultilayerPerceptronClassifier, NaiveBayes, RandomForestClassifier\n",
    "from pyspark.ml.regression import LinearRegression\n",
    "from pyspark.ml.evaluation import MulticlassClassificationEvaluator\n",
    "from pyspark.ml.tuning import CrossValidator, ParamGridBuilder\n",
    "from pyspark.ml.tuning import CrossValidatorModel as mlm\n",
    "from pyspark.ml import Pipeline\n",
    "from pyspark.ml.linalg import DenseVector, SparseVector"
   ]
  },
  {
   "cell_type": "code",
   "execution_count": 2,
   "metadata": {},
   "outputs": [],
   "source": [
    "# create a Spark session\n",
    "spark = SparkSession \\\n",
    "    .builder \\\n",
    "    .appName(\"Sparkify\") \\\n",
    "    .getOrCreate()"
   ]
  },
  {
   "cell_type": "markdown",
   "metadata": {},
   "source": [
    "# Load and Clean Dataset\n",
    "In this workspace, the mini-dataset file is `mini_sparkify_event_data.json`. Load and clean the dataset, checking for invalid or missing data - for example, records without userids or sessionids. "
   ]
  },
  {
   "cell_type": "code",
   "execution_count": 9,
   "metadata": {},
   "outputs": [],
   "source": [
    "path_to_data = 'mini_sparkify_event_data.json'\n",
    "sdf = spark.read.json(path_to_data)"
   ]
  },
  {
   "cell_type": "code",
   "execution_count": 4,
   "metadata": {},
   "outputs": [
    {
     "name": "stdout",
     "output_type": "stream",
     "text": [
      "root\n",
      " |-- artist: string (nullable = true)\n",
      " |-- auth: string (nullable = true)\n",
      " |-- firstName: string (nullable = true)\n",
      " |-- gender: string (nullable = true)\n",
      " |-- itemInSession: long (nullable = true)\n",
      " |-- lastName: string (nullable = true)\n",
      " |-- length: double (nullable = true)\n",
      " |-- level: string (nullable = true)\n",
      " |-- location: string (nullable = true)\n",
      " |-- method: string (nullable = true)\n",
      " |-- page: string (nullable = true)\n",
      " |-- registration: long (nullable = true)\n",
      " |-- sessionId: long (nullable = true)\n",
      " |-- song: string (nullable = true)\n",
      " |-- status: long (nullable = true)\n",
      " |-- ts: long (nullable = true)\n",
      " |-- userAgent: string (nullable = true)\n",
      " |-- userId: string (nullable = true)\n",
      "\n"
     ]
    }
   ],
   "source": [
    "# Check first which data types we are dealing with\n",
    "sdf.printSchema()"
   ]
  },
  {
   "cell_type": "markdown",
   "metadata": {},
   "source": [
    "In order to have an easier to understand visualization, we´ll have a first look of the dataframe using pandas"
   ]
  },
  {
   "cell_type": "code",
   "execution_count": 36,
   "metadata": {},
   "outputs": [
    {
     "data": {
      "text/html": [
       "<div>\n",
       "<style scoped>\n",
       "    .dataframe tbody tr th:only-of-type {\n",
       "        vertical-align: middle;\n",
       "    }\n",
       "\n",
       "    .dataframe tbody tr th {\n",
       "        vertical-align: top;\n",
       "    }\n",
       "\n",
       "    .dataframe thead th {\n",
       "        text-align: right;\n",
       "    }\n",
       "</style>\n",
       "<table border=\"1\" class=\"dataframe\">\n",
       "  <thead>\n",
       "    <tr style=\"text-align: right;\">\n",
       "      <th></th>\n",
       "      <th>artist</th>\n",
       "      <th>auth</th>\n",
       "      <th>firstName</th>\n",
       "      <th>gender</th>\n",
       "      <th>itemInSession</th>\n",
       "      <th>lastName</th>\n",
       "      <th>length</th>\n",
       "      <th>level</th>\n",
       "      <th>location</th>\n",
       "      <th>method</th>\n",
       "      <th>page</th>\n",
       "      <th>registration</th>\n",
       "      <th>sessionId</th>\n",
       "      <th>song</th>\n",
       "      <th>status</th>\n",
       "      <th>ts</th>\n",
       "      <th>userAgent</th>\n",
       "      <th>userId</th>\n",
       "    </tr>\n",
       "  </thead>\n",
       "  <tbody>\n",
       "    <tr>\n",
       "      <th>0</th>\n",
       "      <td>Martha Tilston</td>\n",
       "      <td>Logged In</td>\n",
       "      <td>Colin</td>\n",
       "      <td>M</td>\n",
       "      <td>50</td>\n",
       "      <td>Freeman</td>\n",
       "      <td>277.89016</td>\n",
       "      <td>paid</td>\n",
       "      <td>Bakersfield, CA</td>\n",
       "      <td>PUT</td>\n",
       "      <td>NextSong</td>\n",
       "      <td>1.538173e+12</td>\n",
       "      <td>29</td>\n",
       "      <td>Rockpools</td>\n",
       "      <td>200</td>\n",
       "      <td>1538352117000</td>\n",
       "      <td>Mozilla/5.0 (Windows NT 6.1; WOW64; rv:31.0) G...</td>\n",
       "      <td>30</td>\n",
       "    </tr>\n",
       "    <tr>\n",
       "      <th>1</th>\n",
       "      <td>Five Iron Frenzy</td>\n",
       "      <td>Logged In</td>\n",
       "      <td>Micah</td>\n",
       "      <td>M</td>\n",
       "      <td>79</td>\n",
       "      <td>Long</td>\n",
       "      <td>236.09424</td>\n",
       "      <td>free</td>\n",
       "      <td>Boston-Cambridge-Newton, MA-NH</td>\n",
       "      <td>PUT</td>\n",
       "      <td>NextSong</td>\n",
       "      <td>1.538332e+12</td>\n",
       "      <td>8</td>\n",
       "      <td>Canada</td>\n",
       "      <td>200</td>\n",
       "      <td>1538352180000</td>\n",
       "      <td>\"Mozilla/5.0 (Windows NT 6.1; WOW64) AppleWebK...</td>\n",
       "      <td>9</td>\n",
       "    </tr>\n",
       "    <tr>\n",
       "      <th>2</th>\n",
       "      <td>Adam Lambert</td>\n",
       "      <td>Logged In</td>\n",
       "      <td>Colin</td>\n",
       "      <td>M</td>\n",
       "      <td>51</td>\n",
       "      <td>Freeman</td>\n",
       "      <td>282.82730</td>\n",
       "      <td>paid</td>\n",
       "      <td>Bakersfield, CA</td>\n",
       "      <td>PUT</td>\n",
       "      <td>NextSong</td>\n",
       "      <td>1.538173e+12</td>\n",
       "      <td>29</td>\n",
       "      <td>Time For Miracles</td>\n",
       "      <td>200</td>\n",
       "      <td>1538352394000</td>\n",
       "      <td>Mozilla/5.0 (Windows NT 6.1; WOW64; rv:31.0) G...</td>\n",
       "      <td>30</td>\n",
       "    </tr>\n",
       "    <tr>\n",
       "      <th>3</th>\n",
       "      <td>Enigma</td>\n",
       "      <td>Logged In</td>\n",
       "      <td>Micah</td>\n",
       "      <td>M</td>\n",
       "      <td>80</td>\n",
       "      <td>Long</td>\n",
       "      <td>262.71302</td>\n",
       "      <td>free</td>\n",
       "      <td>Boston-Cambridge-Newton, MA-NH</td>\n",
       "      <td>PUT</td>\n",
       "      <td>NextSong</td>\n",
       "      <td>1.538332e+12</td>\n",
       "      <td>8</td>\n",
       "      <td>Knocking On Forbidden Doors</td>\n",
       "      <td>200</td>\n",
       "      <td>1538352416000</td>\n",
       "      <td>\"Mozilla/5.0 (Windows NT 6.1; WOW64) AppleWebK...</td>\n",
       "      <td>9</td>\n",
       "    </tr>\n",
       "    <tr>\n",
       "      <th>4</th>\n",
       "      <td>Daft Punk</td>\n",
       "      <td>Logged In</td>\n",
       "      <td>Colin</td>\n",
       "      <td>M</td>\n",
       "      <td>52</td>\n",
       "      <td>Freeman</td>\n",
       "      <td>223.60771</td>\n",
       "      <td>paid</td>\n",
       "      <td>Bakersfield, CA</td>\n",
       "      <td>PUT</td>\n",
       "      <td>NextSong</td>\n",
       "      <td>1.538173e+12</td>\n",
       "      <td>29</td>\n",
       "      <td>Harder Better Faster Stronger</td>\n",
       "      <td>200</td>\n",
       "      <td>1538352676000</td>\n",
       "      <td>Mozilla/5.0 (Windows NT 6.1; WOW64; rv:31.0) G...</td>\n",
       "      <td>30</td>\n",
       "    </tr>\n",
       "  </tbody>\n",
       "</table>\n",
       "</div>"
      ],
      "text/plain": [
       "             artist       auth firstName gender  itemInSession lastName  \\\n",
       "0    Martha Tilston  Logged In     Colin      M             50  Freeman   \n",
       "1  Five Iron Frenzy  Logged In     Micah      M             79     Long   \n",
       "2      Adam Lambert  Logged In     Colin      M             51  Freeman   \n",
       "3            Enigma  Logged In     Micah      M             80     Long   \n",
       "4         Daft Punk  Logged In     Colin      M             52  Freeman   \n",
       "\n",
       "      length level                        location method      page  \\\n",
       "0  277.89016  paid                 Bakersfield, CA    PUT  NextSong   \n",
       "1  236.09424  free  Boston-Cambridge-Newton, MA-NH    PUT  NextSong   \n",
       "2  282.82730  paid                 Bakersfield, CA    PUT  NextSong   \n",
       "3  262.71302  free  Boston-Cambridge-Newton, MA-NH    PUT  NextSong   \n",
       "4  223.60771  paid                 Bakersfield, CA    PUT  NextSong   \n",
       "\n",
       "   registration  sessionId                           song  status  \\\n",
       "0  1.538173e+12         29                      Rockpools     200   \n",
       "1  1.538332e+12          8                         Canada     200   \n",
       "2  1.538173e+12         29              Time For Miracles     200   \n",
       "3  1.538332e+12          8    Knocking On Forbidden Doors     200   \n",
       "4  1.538173e+12         29  Harder Better Faster Stronger     200   \n",
       "\n",
       "              ts                                          userAgent userId  \n",
       "0  1538352117000  Mozilla/5.0 (Windows NT 6.1; WOW64; rv:31.0) G...     30  \n",
       "1  1538352180000  \"Mozilla/5.0 (Windows NT 6.1; WOW64) AppleWebK...      9  \n",
       "2  1538352394000  Mozilla/5.0 (Windows NT 6.1; WOW64; rv:31.0) G...     30  \n",
       "3  1538352416000  \"Mozilla/5.0 (Windows NT 6.1; WOW64) AppleWebK...      9  \n",
       "4  1538352676000  Mozilla/5.0 (Windows NT 6.1; WOW64; rv:31.0) G...     30  "
      ]
     },
     "execution_count": 36,
     "metadata": {},
     "output_type": "execute_result"
    }
   ],
   "source": [
    "pdf = sdf.toPandas()\n",
    "pdf.head(5)"
   ]
  },
  {
   "cell_type": "markdown",
   "metadata": {},
   "source": [
    "At first glance, **there are some features we will not get advantage from, as firstName, lastName, mehod**.\n",
    "\n",
    "Let´s have a quick description of some numerical features within the dataset:"
   ]
  },
  {
   "cell_type": "code",
   "execution_count": 43,
   "metadata": {},
   "outputs": [
    {
     "name": "stdout",
     "output_type": "stream",
     "text": [
      "The dataset contains 286500 events from Sparkify users.\n",
      "Each time a user takes any action within the app, an event is recorded\n",
      "with it´s timestamp and user´s static info.\n",
      "There are 226 unique users within the dataset,\n",
      "so every user has multiple events related with her/him\n"
     ]
    },
    {
     "data": {
      "text/html": [
       "<div>\n",
       "<style scoped>\n",
       "    .dataframe tbody tr th:only-of-type {\n",
       "        vertical-align: middle;\n",
       "    }\n",
       "\n",
       "    .dataframe tbody tr th {\n",
       "        vertical-align: top;\n",
       "    }\n",
       "\n",
       "    .dataframe thead th {\n",
       "        text-align: right;\n",
       "    }\n",
       "</style>\n",
       "<table border=\"1\" class=\"dataframe\">\n",
       "  <thead>\n",
       "    <tr style=\"text-align: right;\">\n",
       "      <th></th>\n",
       "      <th>itemInSession</th>\n",
       "      <th>length</th>\n",
       "      <th>registration</th>\n",
       "      <th>sessionId</th>\n",
       "      <th>status</th>\n",
       "      <th>ts</th>\n",
       "    </tr>\n",
       "  </thead>\n",
       "  <tbody>\n",
       "    <tr>\n",
       "      <th>count</th>\n",
       "      <td>286500.000000</td>\n",
       "      <td>228108.000000</td>\n",
       "      <td>2.781540e+05</td>\n",
       "      <td>286500.000000</td>\n",
       "      <td>286500.000000</td>\n",
       "      <td>2.865000e+05</td>\n",
       "    </tr>\n",
       "    <tr>\n",
       "      <th>mean</th>\n",
       "      <td>114.414213</td>\n",
       "      <td>249.117182</td>\n",
       "      <td>1.535359e+12</td>\n",
       "      <td>1041.526555</td>\n",
       "      <td>210.054597</td>\n",
       "      <td>1.540957e+12</td>\n",
       "    </tr>\n",
       "    <tr>\n",
       "      <th>std</th>\n",
       "      <td>129.767262</td>\n",
       "      <td>99.235179</td>\n",
       "      <td>3.291322e+09</td>\n",
       "      <td>726.776263</td>\n",
       "      <td>31.505078</td>\n",
       "      <td>1.507544e+09</td>\n",
       "    </tr>\n",
       "    <tr>\n",
       "      <th>min</th>\n",
       "      <td>0.000000</td>\n",
       "      <td>0.783220</td>\n",
       "      <td>1.521381e+12</td>\n",
       "      <td>1.000000</td>\n",
       "      <td>200.000000</td>\n",
       "      <td>1.538352e+12</td>\n",
       "    </tr>\n",
       "    <tr>\n",
       "      <th>25%</th>\n",
       "      <td>27.000000</td>\n",
       "      <td>199.888530</td>\n",
       "      <td>1.533522e+12</td>\n",
       "      <td>336.000000</td>\n",
       "      <td>200.000000</td>\n",
       "      <td>1.539697e+12</td>\n",
       "    </tr>\n",
       "    <tr>\n",
       "      <th>50%</th>\n",
       "      <td>70.000000</td>\n",
       "      <td>234.500770</td>\n",
       "      <td>1.536664e+12</td>\n",
       "      <td>1013.000000</td>\n",
       "      <td>200.000000</td>\n",
       "      <td>1.540932e+12</td>\n",
       "    </tr>\n",
       "    <tr>\n",
       "      <th>75%</th>\n",
       "      <td>156.250000</td>\n",
       "      <td>277.158730</td>\n",
       "      <td>1.537672e+12</td>\n",
       "      <td>1675.000000</td>\n",
       "      <td>200.000000</td>\n",
       "      <td>1.542266e+12</td>\n",
       "    </tr>\n",
       "    <tr>\n",
       "      <th>max</th>\n",
       "      <td>1321.000000</td>\n",
       "      <td>3024.665670</td>\n",
       "      <td>1.543247e+12</td>\n",
       "      <td>2474.000000</td>\n",
       "      <td>404.000000</td>\n",
       "      <td>1.543799e+12</td>\n",
       "    </tr>\n",
       "  </tbody>\n",
       "</table>\n",
       "</div>"
      ],
      "text/plain": [
       "       itemInSession         length  registration      sessionId  \\\n",
       "count  286500.000000  228108.000000  2.781540e+05  286500.000000   \n",
       "mean      114.414213     249.117182  1.535359e+12    1041.526555   \n",
       "std       129.767262      99.235179  3.291322e+09     726.776263   \n",
       "min         0.000000       0.783220  1.521381e+12       1.000000   \n",
       "25%        27.000000     199.888530  1.533522e+12     336.000000   \n",
       "50%        70.000000     234.500770  1.536664e+12    1013.000000   \n",
       "75%       156.250000     277.158730  1.537672e+12    1675.000000   \n",
       "max      1321.000000    3024.665670  1.543247e+12    2474.000000   \n",
       "\n",
       "              status            ts  \n",
       "count  286500.000000  2.865000e+05  \n",
       "mean      210.054597  1.540957e+12  \n",
       "std        31.505078  1.507544e+09  \n",
       "min       200.000000  1.538352e+12  \n",
       "25%       200.000000  1.539697e+12  \n",
       "50%       200.000000  1.540932e+12  \n",
       "75%       200.000000  1.542266e+12  \n",
       "max       404.000000  1.543799e+12  "
      ]
     },
     "execution_count": 43,
     "metadata": {},
     "output_type": "execute_result"
    }
   ],
   "source": [
    "print(f'The dataset contains {pdf.shape[0]} events from Sparkify users.')\n",
    "print(f'Each time a user takes any action within the app, an event is recorded')\n",
    "print(f'with it´s timestamp and user´s static info.')\n",
    "\n",
    "print(f'There are {pdf.userId.unique().shape[0]} unique users within the dataset,')\n",
    "print(f'so every user has multiple events related with her/him')\n",
    "\n",
    "\n",
    "# Describe numerical calculated statistics\n",
    "pdf.describe()"
   ]
  },
  {
   "cell_type": "markdown",
   "metadata": {},
   "source": [
    "### Exploring Nulls\n",
    "\n",
    "Exploring the dataset looking for null values, there are nulls in several columns, but the seem to be quite consistent, because there are:\n",
    "- 3 columns with 58392 nulls (artist, lenght, song) all related with the song played for each event.\n",
    "- 6 columns with 8346 nulls (firstName, lastName, gender, location, registration, userAgent) all related with personal details of users. **These nulls correspond with the number of ows where 'userId' is an empy string**\n",
    "\n",
    "**As our goal is analysing users, we´ll drop those rows.**"
   ]
  },
  {
   "cell_type": "code",
   "execution_count": 5,
   "metadata": {},
   "outputs": [
    {
     "name": "stdout",
     "output_type": "stream",
     "text": [
      "286500 rows\n",
      "NULL VALUES PER COLUMN\n",
      "artist           58392\n",
      "auth                 0\n",
      "firstName         8346\n",
      "gender            8346\n",
      "itemInSession        0\n",
      "lastName          8346\n",
      "length           58392\n",
      "level                0\n",
      "location          8346\n",
      "method               0\n",
      "page                 0\n",
      "registration      8346\n",
      "sessionId            0\n",
      "song             58392\n",
      "status               0\n",
      "ts                   0\n",
      "userAgent         8346\n",
      "userId               0\n",
      "dtype: int64\n"
     ]
    }
   ],
   "source": [
    "# Explore null values\n",
    "nulls = pdf.isnull().sum()\n",
    "print(pdf.shape[0], 'rows')\n",
    "print('NULL VALUES PER COLUMN')\n",
    "print(nulls)"
   ]
  },
  {
   "cell_type": "code",
   "execution_count": 6,
   "metadata": {},
   "outputs": [
    {
     "data": {
      "text/plain": [
       "8346"
      ]
     },
     "execution_count": 6,
     "metadata": {},
     "output_type": "execute_result"
    }
   ],
   "source": [
    "# Check rows where userId is an empty string\n",
    "pdf[pdf.userId == '']['sessionId'].count()"
   ]
  },
  {
   "cell_type": "code",
   "execution_count": 7,
   "metadata": {},
   "outputs": [
    {
     "data": {
      "text/plain": [
       "0"
      ]
     },
     "execution_count": 7,
     "metadata": {},
     "output_type": "execute_result"
    }
   ],
   "source": [
    "# Drop rows\n",
    "sdf = sdf.filter(sdf.userId != '')\n",
    "# Check \n",
    "sdf.filter(sdf.userId == '').count()"
   ]
  },
  {
   "cell_type": "code",
   "execution_count": 8,
   "metadata": {},
   "outputs": [],
   "source": [
    "# Update pdf \n",
    "pdf = sdf.toPandas()"
   ]
  },
  {
   "cell_type": "markdown",
   "metadata": {},
   "source": [
    "### Exploring Categorical features\n",
    "Having a look of the possible values for the 7 categorical features, we have a better picture of the meaning of our data. \n",
    "- As we dropped all rows without userId, it seems we got rid of all non-logged users (or guests). The page feature does not present any 'register' or 'create account' values, likely due to the same reason. \n",
    "- 'UserAGENT' appears to be a bit more messy. It could make sense to split the information of this column in some new ones as 'OS' or 'version' as a feature engineering step trying to improve the further model."
   ]
  },
  {
   "cell_type": "code",
   "execution_count": 9,
   "metadata": {},
   "outputs": [
    {
     "name": "stdout",
     "output_type": "stream",
     "text": [
      "LEVEL: ['paid' 'free']\n",
      "METHOD: ['PUT' 'GET']\n",
      "PAGE: ['NextSong' 'Add to Playlist' 'Roll Advert' 'Thumbs Up' 'Downgrade'\n",
      " 'Thumbs Down' 'Home' 'Logout' 'Help' 'Upgrade' 'Add Friend' 'Settings'\n",
      " 'Submit Upgrade' 'About' 'Submit Downgrade' 'Error' 'Save Settings'\n",
      " 'Cancel' 'Cancellation Confirmation']\n",
      "STATUS: [200 307 404]\n",
      "GENDER: ['M' 'F']\n",
      "AUTH: ['Logged In' 'Cancelled']\n"
     ]
    }
   ],
   "source": [
    "# There are 7 categorical features. Let´s have a look of their possible values \n",
    "print('LEVEL:', pdf.level.unique())\n",
    "print('METHOD:', pdf.method.unique())\n",
    "print('PAGE:', pdf.page.unique())\n",
    "print('STATUS:', pdf.status.unique())\n",
    "print('GENDER:', pdf.gender.unique())\n",
    "print('AUTH:', pdf.auth.unique()) "
   ]
  },
  {
   "cell_type": "code",
   "execution_count": 10,
   "metadata": {},
   "outputs": [
    {
     "data": {
      "text/plain": [
       "array([ 'Mozilla/5.0 (Windows NT 6.1; WOW64; rv:31.0) Gecko/20100101 Firefox/31.0',\n",
       "       '\"Mozilla/5.0 (Windows NT 6.1; WOW64) AppleWebKit/537.36 (KHTML, like Gecko) Chrome/37.0.2062.103 Safari/537.36\"',\n",
       "       '\"Mozilla/5.0 (Macintosh; Intel Mac OS X 10_9_4) AppleWebKit/537.36 (KHTML, like Gecko) Chrome/37.0.2062.94 Safari/537.36\"',\n",
       "       'Mozilla/5.0 (Windows NT 6.1; WOW64; rv:32.0) Gecko/20100101 Firefox/32.0',\n",
       "       'Mozilla/5.0 (Windows NT 6.0; rv:31.0) Gecko/20100101 Firefox/31.0',\n",
       "       'Mozilla/5.0 (Windows NT 6.2; WOW64; rv:31.0) Gecko/20100101 Firefox/31.0',\n",
       "       '\"Mozilla/5.0 (Windows NT 6.1; WOW64) AppleWebKit/537.36 (KHTML, like Gecko) Chrome/37.0.2062.94 Safari/537.36\"',\n",
       "       'Mozilla/5.0 (Macintosh; Intel Mac OS X 10.9; rv:31.0) Gecko/20100101 Firefox/31.0',\n",
       "       '\"Mozilla/5.0 (Macintosh; Intel Mac OS X 10_9_4) AppleWebKit/537.36 (KHTML, like Gecko) Chrome/36.0.1985.125 Safari/537.36\"',\n",
       "       '\"Mozilla/5.0 (iPhone; CPU iPhone OS 7_1_2 like Mac OS X) AppleWebKit/537.51.2 (KHTML, like Gecko) Version/7.0 Mobile/11D257 Safari/9537.53\"',\n",
       "       '\"Mozilla/5.0 (Windows NT 6.3; WOW64) AppleWebKit/537.36 (KHTML, like Gecko) Chrome/36.0.1985.125 Safari/537.36\"',\n",
       "       '\"Mozilla/5.0 (Windows NT 6.1; WOW64) AppleWebKit/537.36 (KHTML, like Gecko) Chrome/36.0.1985.143 Safari/537.36\"',\n",
       "       'Mozilla/5.0 (Windows NT 6.1; WOW64; Trident/7.0; rv:11.0) like Gecko',\n",
       "       '\"Mozilla/5.0 (Macintosh; Intel Mac OS X 10_9_4) AppleWebKit/537.77.4 (KHTML, like Gecko) Version/7.0.5 Safari/537.77.4\"',\n",
       "       '\"Mozilla/5.0 (Macintosh; Intel Mac OS X 10_9_4) AppleWebKit/537.36 (KHTML, like Gecko) Chrome/36.0.1985.143 Safari/537.36\"',\n",
       "       '\"Mozilla/5.0 (iPad; CPU OS 7_1_2 like Mac OS X) AppleWebKit/537.51.2 (KHTML, like Gecko) Version/7.0 Mobile/11D257 Safari/9537.53\"',\n",
       "       '\"Mozilla/5.0 (Windows NT 6.3; WOW64) AppleWebKit/537.36 (KHTML, like Gecko) Chrome/36.0.1985.143 Safari/537.36\"',\n",
       "       '\"Mozilla/5.0 (Windows NT 6.1; WOW64) AppleWebKit/537.36 (KHTML, like Gecko) Chrome/36.0.1985.125 Safari/537.36\"',\n",
       "       '\"Mozilla/5.0 (Macintosh; Intel Mac OS X 10_9_2) AppleWebKit/537.74.9 (KHTML, like Gecko) Version/7.0.2 Safari/537.74.9\"',\n",
       "       'Mozilla/5.0 (compatible; MSIE 10.0; Windows NT 6.1; WOW64; Trident/6.0)',\n",
       "       'Mozilla/5.0 (Windows NT 6.3; WOW64; rv:31.0) Gecko/20100101 Firefox/31.0',\n",
       "       '\"Mozilla/5.0 (Windows NT 6.2; WOW64) AppleWebKit/537.36 (KHTML, like Gecko) Chrome/36.0.1985.143 Safari/537.36\"',\n",
       "       '\"Mozilla/5.0 (Macintosh; Intel Mac OS X 10_9_4) AppleWebKit/537.78.2 (KHTML, like Gecko) Version/7.0.6 Safari/537.78.2\"',\n",
       "       'Mozilla/5.0 (X11; Linux x86_64; rv:31.0) Gecko/20100101 Firefox/31.0',\n",
       "       '\"Mozilla/5.0 (Macintosh; Intel Mac OS X 10_9_2) AppleWebKit/537.36 (KHTML, like Gecko) Chrome/36.0.1985.125 Safari/537.36\"',\n",
       "       '\"Mozilla/5.0 (Windows NT 6.1) AppleWebKit/537.36 (KHTML, like Gecko) Chrome/36.0.1985.143 Safari/537.36\"',\n",
       "       '\"Mozilla/5.0 (iPhone; CPU iPhone OS 7_1_1 like Mac OS X) AppleWebKit/537.51.2 (KHTML, like Gecko) Version/7.0 Mobile/11D201 Safari/9537.53\"',\n",
       "       '\"Mozilla/5.0 (Macintosh; Intel Mac OS X 10_8_5) AppleWebKit/537.36 (KHTML, like Gecko) Chrome/37.0.2062.94 Safari/537.36\"',\n",
       "       'Mozilla/5.0 (X11; Ubuntu; Linux x86_64; rv:31.0) Gecko/20100101 Firefox/31.0',\n",
       "       'Mozilla/5.0 (Windows NT 6.1; WOW64; rv:30.0) Gecko/20100101 Firefox/30.0',\n",
       "       '\"Mozilla/5.0 (Windows NT 6.2; WOW64) AppleWebKit/537.36 (KHTML, like Gecko) Chrome/36.0.1985.125 Safari/537.36\"',\n",
       "       'Mozilla/5.0 (compatible; MSIE 9.0; Windows NT 6.1; WOW64; Trident/5.0)',\n",
       "       'Mozilla/5.0 (Windows NT 6.1; WOW64; rv:24.0) Gecko/20100101 Firefox/24.0',\n",
       "       'Mozilla/5.0 (Windows NT 6.1; rv:31.0) Gecko/20100101 Firefox/31.0',\n",
       "       '\"Mozilla/5.0 (Macintosh; Intel Mac OS X 10_10) AppleWebKit/600.1.3 (KHTML, like Gecko) Version/8.0 Safari/600.1.3\"',\n",
       "       '\"Mozilla/5.0 (Windows NT 5.1) AppleWebKit/537.36 (KHTML, like Gecko) Chrome/36.0.1985.143 Safari/537.36\"',\n",
       "       'Mozilla/5.0 (X11; Ubuntu; Linux i686; rv:31.0) Gecko/20100101 Firefox/31.0',\n",
       "       '\"Mozilla/5.0 (Macintosh; Intel Mac OS X 10_9_3) AppleWebKit/537.76.4 (KHTML, like Gecko) Version/7.0.4 Safari/537.76.4\"',\n",
       "       '\"Mozilla/5.0 (X11; Linux x86_64) AppleWebKit/537.36 (KHTML, like Gecko) Chrome/36.0.1985.143 Safari/537.36\"',\n",
       "       '\"Mozilla/5.0 (X11; Linux x86_64) AppleWebKit/537.36 (KHTML, like Gecko) Chrome/36.0.1985.125 Safari/537.36\"',\n",
       "       '\"Mozilla/5.0 (Macintosh; Intel Mac OS X 10_9_2) AppleWebKit/537.75.14 (KHTML, like Gecko) Version/7.0.3 Safari/537.75.14\"',\n",
       "       '\"Mozilla/5.0 (Windows NT 6.1) AppleWebKit/537.36 (KHTML, like Gecko) Chrome/36.0.1985.125 Safari/537.36\"',\n",
       "       '\"Mozilla/5.0 (iPad; CPU OS 7_1_1 like Mac OS X) AppleWebKit/537.51.2 (KHTML, like Gecko) Version/7.0 Mobile/11D201 Safari/9537.53\"',\n",
       "       'Mozilla/5.0 (Macintosh; Intel Mac OS X 10.8; rv:31.0) Gecko/20100101 Firefox/31.0',\n",
       "       'Mozilla/5.0 (Macintosh; Intel Mac OS X 10.6; rv:31.0) Gecko/20100101 Firefox/31.0',\n",
       "       '\"Mozilla/5.0 (Macintosh; Intel Mac OS X 10_8_5) AppleWebKit/537.36 (KHTML, like Gecko) Chrome/36.0.1985.143 Safari/537.36\"',\n",
       "       '\"Mozilla/5.0 (iPhone; CPU iPhone OS 7_1 like Mac OS X) AppleWebKit/537.51.2 (KHTML, like Gecko) Version/7.0 Mobile/11D167 Safari/9537.53\"',\n",
       "       '\"Mozilla/5.0 (Macintosh; Intel Mac OS X 10_7_5) AppleWebKit/537.77.4 (KHTML, like Gecko) Version/6.1.5 Safari/537.77.4\"',\n",
       "       '\"Mozilla/5.0 (Macintosh; Intel Mac OS X 10_6_8) AppleWebKit/537.36 (KHTML, like Gecko) Chrome/36.0.1985.143 Safari/537.36\"',\n",
       "       '\"Mozilla/5.0 (Macintosh; Intel Mac OS X 10_9_4) AppleWebKit/537.36 (KHTML, like Gecko) Chrome/35.0.1916.153 Safari/537.36\"',\n",
       "       'Mozilla/5.0 (compatible; MSIE 9.0; Windows NT 6.1; Trident/5.0)',\n",
       "       '\"Mozilla/5.0 (Macintosh; Intel Mac OS X 10_10) AppleWebKit/600.1.8 (KHTML, like Gecko) Version/8.0 Safari/600.1.8\"',\n",
       "       'Mozilla/5.0 (Macintosh; Intel Mac OS X 10.7; rv:31.0) Gecko/20100101 Firefox/31.0',\n",
       "       '\"Mozilla/5.0 (Windows NT 6.1; WOW64) AppleWebKit/537.36 (KHTML, like Gecko) Chrome/35.0.1916.153 Safari/537.36\"',\n",
       "       '\"Mozilla/5.0 (Windows NT 5.1) AppleWebKit/537.36 (KHTML, like Gecko) Chrome/36.0.1985.125 Safari/537.36\"',\n",
       "       '\"Mozilla/5.0 (Macintosh; Intel Mac OS X 10_7_5) AppleWebKit/537.36 (KHTML, like Gecko) Chrome/36.0.1985.125 Safari/537.36\"'], dtype=object)"
      ]
     },
     "execution_count": 10,
     "metadata": {},
     "output_type": "execute_result"
    }
   ],
   "source": [
    "pdf.userAgent.unique()"
   ]
  },
  {
   "cell_type": "markdown",
   "metadata": {},
   "source": [
    "# Exploratory Data Analysis\n",
    "When you're working with the full dataset, perform EDA by loading a small subset of the data and doing basic manipulations within Spark. In this workspace, you are already provided a small subset of data you can explore.\n",
    "\n",
    "### Define Churn\n",
    "\n",
    "Once you've done some preliminary analysis, create a column `Churn` to use as the label for your model. I suggest using the `Cancellation Confirmation` events to define your churn, which happen for both paid and free users. As a bonus task, you can also look into the `Downgrade` events."
   ]
  },
  {
   "cell_type": "code",
   "execution_count": 11,
   "metadata": {},
   "outputs": [
    {
     "data": {
      "text/html": [
       "<div>\n",
       "<style scoped>\n",
       "    .dataframe tbody tr th:only-of-type {\n",
       "        vertical-align: middle;\n",
       "    }\n",
       "\n",
       "    .dataframe tbody tr th {\n",
       "        vertical-align: top;\n",
       "    }\n",
       "\n",
       "    .dataframe thead th {\n",
       "        text-align: right;\n",
       "    }\n",
       "</style>\n",
       "<table border=\"1\" class=\"dataframe\">\n",
       "  <thead>\n",
       "    <tr style=\"text-align: right;\">\n",
       "      <th></th>\n",
       "      <th>artist</th>\n",
       "      <th>auth</th>\n",
       "      <th>firstName</th>\n",
       "      <th>gender</th>\n",
       "      <th>itemInSession</th>\n",
       "      <th>lastName</th>\n",
       "      <th>length</th>\n",
       "      <th>level</th>\n",
       "      <th>location</th>\n",
       "      <th>method</th>\n",
       "      <th>page</th>\n",
       "      <th>registration</th>\n",
       "      <th>sessionId</th>\n",
       "      <th>song</th>\n",
       "      <th>status</th>\n",
       "      <th>ts</th>\n",
       "      <th>userAgent</th>\n",
       "      <th>userId</th>\n",
       "      <th>churn</th>\n",
       "    </tr>\n",
       "  </thead>\n",
       "  <tbody>\n",
       "    <tr>\n",
       "      <th>33242</th>\n",
       "      <td>Lightspeed Champion</td>\n",
       "      <td>Logged In</td>\n",
       "      <td>Logan</td>\n",
       "      <td>M</td>\n",
       "      <td>0</td>\n",
       "      <td>Long</td>\n",
       "      <td>266.21342</td>\n",
       "      <td>free</td>\n",
       "      <td>Muncie, IN</td>\n",
       "      <td>PUT</td>\n",
       "      <td>NextSong</td>\n",
       "      <td>1536032681000</td>\n",
       "      <td>2446</td>\n",
       "      <td>The Big Guns Of Highsmith</td>\n",
       "      <td>200</td>\n",
       "      <td>1543587598000</td>\n",
       "      <td>Mozilla/5.0 (Windows NT 6.1; WOW64; rv:31.0) G...</td>\n",
       "      <td>112</td>\n",
       "      <td>0</td>\n",
       "    </tr>\n",
       "    <tr>\n",
       "      <th>152788</th>\n",
       "      <td>Suzi Quatro</td>\n",
       "      <td>Logged In</td>\n",
       "      <td>Benjamin</td>\n",
       "      <td>M</td>\n",
       "      <td>108</td>\n",
       "      <td>Mata</td>\n",
       "      <td>197.14567</td>\n",
       "      <td>paid</td>\n",
       "      <td>Sterling, IL</td>\n",
       "      <td>PUT</td>\n",
       "      <td>NextSong</td>\n",
       "      <td>1538313468000</td>\n",
       "      <td>183</td>\n",
       "      <td>Keep A Knockin'</td>\n",
       "      <td>200</td>\n",
       "      <td>1540483707000</td>\n",
       "      <td>\"Mozilla/5.0 (Windows NT 6.1; WOW64) AppleWebK...</td>\n",
       "      <td>200009</td>\n",
       "      <td>0</td>\n",
       "    </tr>\n",
       "    <tr>\n",
       "      <th>207004</th>\n",
       "      <td>Squarepusher</td>\n",
       "      <td>Logged In</td>\n",
       "      <td>Zyonna</td>\n",
       "      <td>F</td>\n",
       "      <td>1</td>\n",
       "      <td>Bird</td>\n",
       "      <td>493.37424</td>\n",
       "      <td>paid</td>\n",
       "      <td>Columbus, GA-AL</td>\n",
       "      <td>PUT</td>\n",
       "      <td>NextSong</td>\n",
       "      <td>1536663902000</td>\n",
       "      <td>2306</td>\n",
       "      <td>E8 Boogie</td>\n",
       "      <td>200</td>\n",
       "      <td>1543243732000</td>\n",
       "      <td>Mozilla/5.0 (Windows NT 6.1; WOW64; rv:31.0) G...</td>\n",
       "      <td>88</td>\n",
       "      <td>0</td>\n",
       "    </tr>\n",
       "    <tr>\n",
       "      <th>207917</th>\n",
       "      <td>Madonna</td>\n",
       "      <td>Logged In</td>\n",
       "      <td>Alexander</td>\n",
       "      <td>M</td>\n",
       "      <td>70</td>\n",
       "      <td>Garcia</td>\n",
       "      <td>239.17669</td>\n",
       "      <td>paid</td>\n",
       "      <td>Indianapolis-Carmel-Anderson, IN</td>\n",
       "      <td>PUT</td>\n",
       "      <td>NextSong</td>\n",
       "      <td>1536817381000</td>\n",
       "      <td>508</td>\n",
       "      <td>Who's That Girl (Soundtrack Album Version)</td>\n",
       "      <td>200</td>\n",
       "      <td>1539321289000</td>\n",
       "      <td>Mozilla/5.0 (Windows NT 6.1; WOW64; rv:31.0) G...</td>\n",
       "      <td>105</td>\n",
       "      <td>1</td>\n",
       "    </tr>\n",
       "    <tr>\n",
       "      <th>91243</th>\n",
       "      <td>Lisa Loeb &amp; Nine Stories</td>\n",
       "      <td>Logged In</td>\n",
       "      <td>Lucero</td>\n",
       "      <td>F</td>\n",
       "      <td>588</td>\n",
       "      <td>Reed</td>\n",
       "      <td>181.86404</td>\n",
       "      <td>paid</td>\n",
       "      <td>Louisville/Jefferson County, KY-IN</td>\n",
       "      <td>PUT</td>\n",
       "      <td>NextSong</td>\n",
       "      <td>1536642109000</td>\n",
       "      <td>1483</td>\n",
       "      <td>Stay</td>\n",
       "      <td>200</td>\n",
       "      <td>1541188457000</td>\n",
       "      <td>\"Mozilla/5.0 (Windows NT 6.1; WOW64) AppleWebK...</td>\n",
       "      <td>140</td>\n",
       "      <td>0</td>\n",
       "    </tr>\n",
       "  </tbody>\n",
       "</table>\n",
       "</div>"
      ],
      "text/plain": [
       "                          artist       auth  firstName gender  itemInSession  \\\n",
       "33242        Lightspeed Champion  Logged In      Logan      M              0   \n",
       "152788               Suzi Quatro  Logged In   Benjamin      M            108   \n",
       "207004              Squarepusher  Logged In     Zyonna      F              1   \n",
       "207917                   Madonna  Logged In  Alexander      M             70   \n",
       "91243   Lisa Loeb & Nine Stories  Logged In     Lucero      F            588   \n",
       "\n",
       "       lastName     length level                            location method  \\\n",
       "33242      Long  266.21342  free                          Muncie, IN    PUT   \n",
       "152788     Mata  197.14567  paid                        Sterling, IL    PUT   \n",
       "207004     Bird  493.37424  paid                     Columbus, GA-AL    PUT   \n",
       "207917   Garcia  239.17669  paid    Indianapolis-Carmel-Anderson, IN    PUT   \n",
       "91243      Reed  181.86404  paid  Louisville/Jefferson County, KY-IN    PUT   \n",
       "\n",
       "            page   registration  sessionId  \\\n",
       "33242   NextSong  1536032681000       2446   \n",
       "152788  NextSong  1538313468000        183   \n",
       "207004  NextSong  1536663902000       2306   \n",
       "207917  NextSong  1536817381000        508   \n",
       "91243   NextSong  1536642109000       1483   \n",
       "\n",
       "                                              song  status             ts  \\\n",
       "33242                    The Big Guns Of Highsmith     200  1543587598000   \n",
       "152788                             Keep A Knockin'     200  1540483707000   \n",
       "207004                                   E8 Boogie     200  1543243732000   \n",
       "207917  Who's That Girl (Soundtrack Album Version)     200  1539321289000   \n",
       "91243                                         Stay     200  1541188457000   \n",
       "\n",
       "                                                userAgent  userId  churn  \n",
       "33242   Mozilla/5.0 (Windows NT 6.1; WOW64; rv:31.0) G...     112      0  \n",
       "152788  \"Mozilla/5.0 (Windows NT 6.1; WOW64) AppleWebK...  200009      0  \n",
       "207004  Mozilla/5.0 (Windows NT 6.1; WOW64; rv:31.0) G...      88      0  \n",
       "207917  Mozilla/5.0 (Windows NT 6.1; WOW64; rv:31.0) G...     105      1  \n",
       "91243   \"Mozilla/5.0 (Windows NT 6.1; WOW64) AppleWebK...     140      0  "
      ]
     },
     "execution_count": 11,
     "metadata": {},
     "output_type": "execute_result"
    }
   ],
   "source": [
    "# Churn is a label for user who cancelled\n",
    "# Define a churn flagging function and apply\n",
    "flag_cancelation_event = udf(lambda x: 1 if x == \"Cancellation Confirmation\" else 0, IntegerType())\n",
    "sdf = sdf.withColumn(\"churn\", flag_cancelation_event(\"page\"))\n",
    "\n",
    "# Define window bounds and apply \n",
    "windowval = Window.partitionBy(\"userId\").rangeBetween(Window.unboundedPreceding, Window.unboundedFollowing)\n",
    "sdf = sdf.withColumn(\"churn\", Fsum(\"churn\").over(windowval))\n",
    "\n",
    "# Again define pandas df for better view\n",
    "pdf = sdf.toPandas()\n",
    "pdf.sample(5)"
   ]
  },
  {
   "cell_type": "markdown",
   "metadata": {},
   "source": [
    "## Explore Data\n",
    "Once you've defined churn, perform some exploratory data analysis to observe the behavior for users who stayed vs users who churned. You can start by exploring aggregates on these two groups of users, observing how much of a specific action they experienced per a certain time unit or number of songs played."
   ]
  },
  {
   "cell_type": "code",
   "execution_count": 12,
   "metadata": {},
   "outputs": [
    {
     "name": "stdout",
     "output_type": "stream",
     "text": [
      "+-----+-----+\n",
      "|churn|count|\n",
      "+-----+-----+\n",
      "|    0|  173|\n",
      "|    1|   52|\n",
      "+-----+-----+\n",
      "\n",
      "+-----+------+-----+\n",
      "|churn|gender|count|\n",
      "+-----+------+-----+\n",
      "|    0|     F|   84|\n",
      "|    1|     M|   32|\n",
      "|    1|     F|   20|\n",
      "|    0|     M|   89|\n",
      "+-----+------+-----+\n",
      "\n",
      "+-----+-----+-----+\n",
      "|churn|level|count|\n",
      "+-----+-----+-----+\n",
      "|    1| paid|   36|\n",
      "|    1| free|   46|\n",
      "|    0| free|  149|\n",
      "|    0| paid|  129|\n",
      "+-----+-----+-----+\n",
      "\n"
     ]
    }
   ],
   "source": [
    "# Counting users splitted by churn or not churn\n",
    "sdf.dropDuplicates(['userId']).groupby(['churn']).count().show()\n",
    "\n",
    "# Exploring user status by gender\n",
    "sdf.dropDuplicates(['userId', 'gender']).groupby(['churn', 'gender']).count().show()\n",
    "\n",
    "# Exploring user status by paid lever\n",
    "sdf.dropDuplicates(['userId', 'level']).groupby(['churn', 'level']).count().show()"
   ]
  },
  {
   "cell_type": "code",
   "execution_count": 13,
   "metadata": {},
   "outputs": [],
   "source": [
    "def plotting_compare_users(subset, group, labels, color):\n",
    "    ax = pdf.drop_duplicates(subset=subset).groupby(\n",
    "                                group)['userId'].count().plot(\n",
    "                                kind='bar', figsize=(8,5),\n",
    "                                color = color,\n",
    "                                title='Number of unique users per category')\n",
    "    ax.set_xticklabels(labels, rotation=0)\n",
    "    ax.set_ylabel(\"Number of users\")\n",
    "    ax.set_xlabel(\"Subscription status\")"
   ]
  },
  {
   "cell_type": "code",
   "execution_count": 14,
   "metadata": {},
   "outputs": [
    {
     "data": {
      "image/png": "[encoded data removed]",
      "text/plain": [
       "<matplotlib.figure.Figure at 0x7f098233a048>"
      ]
     },
     "metadata": {
      "needs_background": "light"
     },
     "output_type": "display_data"
    }
   ],
   "source": [
    "plotting_compare_users(['userId'], ['churn'], ['Active', 'Cancelled'], ['#97a8c2','#617491'])"
   ]
  },
  {
   "cell_type": "code",
   "execution_count": 15,
   "metadata": {},
   "outputs": [
    {
     "data": {
      "image/png": "[encoded data removed]",
      "text/plain": [
       "<matplotlib.figure.Figure at 0x7f0973262550>"
      ]
     },
     "metadata": {
      "needs_background": "light"
     },
     "output_type": "display_data"
    }
   ],
   "source": [
    "plotting_compare_users(['userId', 'gender'], \n",
    "                       ['gender', 'churn'], \n",
    "                       ['Active-Female', 'Cancelled-Female', 'Active-Male', 'Cancelled-Male'],\n",
    "                       ['#97a8c2','#617491', '#97a8c2','#617491'])"
   ]
  },
  {
   "cell_type": "code",
   "execution_count": 16,
   "metadata": {},
   "outputs": [
    {
     "data": {
      "image/png": "[encoded data removed]",
      "text/plain": [
       "<matplotlib.figure.Figure at 0x7f0974080a58>"
      ]
     },
     "metadata": {
      "needs_background": "light"
     },
     "output_type": "display_data"
    }
   ],
   "source": [
    "plotting_compare_users(['userId', 'level'], \n",
    "                       ['level', 'churn'], \n",
    "                       ['Active-Free', 'Cancelled-Free', 'Active-Paid', 'Cancelled-Paid'],\n",
    "                       ['#97a8c2','#617491', '#97a8c2','#617491'])"
   ]
  },
  {
   "cell_type": "code",
   "execution_count": 17,
   "metadata": {
    "scrolled": true
   },
   "outputs": [
    {
     "data": {
      "image/png": "[encoded data removed]",
      "text/plain": [
       "<matplotlib.figure.Figure at 0x7f099fa54d68>"
      ]
     },
     "metadata": {
      "needs_background": "light"
     },
     "output_type": "display_data"
    }
   ],
   "source": [
    "churn_users = pdf[pdf.churn == 1].groupby(['page'])['userId'].count().drop('NextSong')\n",
    "churn_users = (churn_users /churn_users.sum()*100).sort_values(ascending=False)\n",
    "\n",
    "active_users = pdf[pdf.churn == 0].groupby(['page'])['userId'].count().drop('NextSong')\n",
    "active_users = (active_users /active_users.sum()*100).sort_values(ascending=False)\n",
    "\n",
    "users_df = pd.DataFrame({'Churn': churn_users,'Active':active_users})\n",
    "ax = users_df.plot(kind='bar', figsize=(13,4), color = ['#97a8c2','#617491']);\n",
    "ax.set_ylabel('Percent of occurrence (%)')\n",
    "ax.set_title('Percent pages for active and cancelled users');"
   ]
  },
  {
   "cell_type": "code",
   "execution_count": 18,
   "metadata": {},
   "outputs": [
    {
     "data": {
      "text/plain": [
       "page\n",
       "Thumbs Up           25.716760\n",
       "Home                20.228016\n",
       "Add to Playlist     13.199923\n",
       "Add Friend           8.757456\n",
       "Roll Advert          7.133923\n",
       "Logout               6.429190\n",
       "Thumbs Down          4.930729\n",
       "Downgrade            4.132192\n",
       "Settings             2.992111\n",
       "Help                 2.922359\n",
       "About                1.055898\n",
       "Upgrade              0.930825\n",
       "Save Settings        0.606119\n",
       "Error                0.529151\n",
       "Submit Upgrade       0.305465\n",
       "Submit Downgrade     0.129883\n",
       "Name: userId, dtype: float64"
      ]
     },
     "execution_count": 18,
     "metadata": {},
     "output_type": "execute_result"
    }
   ],
   "source": [
    "active_users.sort_values(ascending=False)"
   ]
  },
  {
   "cell_type": "markdown",
   "metadata": {},
   "source": [
    "### Time features"
   ]
  },
  {
   "cell_type": "code",
   "execution_count": 19,
   "metadata": {},
   "outputs": [
    {
     "name": "stdout",
     "output_type": "stream",
     "text": [
      "Column hour added successfully.\n",
      "Column day added successfully.\n",
      "Column month added successfully.\n",
      "Column weekday added successfully.\n"
     ]
    }
   ],
   "source": [
    "# Create functions to extract time features from ts\n",
    "\n",
    "hour = udf(lambda x: datetime.datetime.fromtimestamp(x / 1000.0).hour)\n",
    "day = udf(lambda x: datetime.datetime.fromtimestamp(x / 1000.0).day)\n",
    "month = udf(lambda x: datetime.datetime.fromtimestamp(x / 1000.0).month)\n",
    "weekday = udf(lambda x: datetime.datetime.fromtimestamp(x / 1000.0).strftime('%w'))\n",
    "\n",
    "# Adding columns to sdf\n",
    "jobs = {'hour':hour, 'day':day, 'month':month, 'weekday':weekday}\n",
    "for item, job in jobs.items():\n",
    "    sdf = sdf.withColumn(item, job(sdf.ts))\n",
    "    print(f'Column {item} added successfully.')"
   ]
  },
  {
   "cell_type": "code",
   "execution_count": 20,
   "metadata": {},
   "outputs": [
    {
     "data": {
      "text/html": [
       "<div>\n",
       "<style scoped>\n",
       "    .dataframe tbody tr th:only-of-type {\n",
       "        vertical-align: middle;\n",
       "    }\n",
       "\n",
       "    .dataframe tbody tr th {\n",
       "        vertical-align: top;\n",
       "    }\n",
       "\n",
       "    .dataframe thead th {\n",
       "        text-align: right;\n",
       "    }\n",
       "</style>\n",
       "<table border=\"1\" class=\"dataframe\">\n",
       "  <thead>\n",
       "    <tr style=\"text-align: right;\">\n",
       "      <th></th>\n",
       "      <th>artist</th>\n",
       "      <th>auth</th>\n",
       "      <th>firstName</th>\n",
       "      <th>gender</th>\n",
       "      <th>itemInSession</th>\n",
       "      <th>lastName</th>\n",
       "      <th>length</th>\n",
       "      <th>level</th>\n",
       "      <th>location</th>\n",
       "      <th>method</th>\n",
       "      <th>...</th>\n",
       "      <th>song</th>\n",
       "      <th>status</th>\n",
       "      <th>ts</th>\n",
       "      <th>userAgent</th>\n",
       "      <th>userId</th>\n",
       "      <th>churn</th>\n",
       "      <th>hour</th>\n",
       "      <th>day</th>\n",
       "      <th>month</th>\n",
       "      <th>weekday</th>\n",
       "    </tr>\n",
       "  </thead>\n",
       "  <tbody>\n",
       "    <tr>\n",
       "      <th>219412</th>\n",
       "      <td>Andres Calamaro</td>\n",
       "      <td>Logged In</td>\n",
       "      <td>Lauren</td>\n",
       "      <td>F</td>\n",
       "      <td>151</td>\n",
       "      <td>Boone</td>\n",
       "      <td>227.16036</td>\n",
       "      <td>paid</td>\n",
       "      <td>St. Louis, MO-IL</td>\n",
       "      <td>PUT</td>\n",
       "      <td>...</td>\n",
       "      <td>No Va Mas</td>\n",
       "      <td>200</td>\n",
       "      <td>1539275060000</td>\n",
       "      <td>\"Mozilla/5.0 (Windows NT 6.1; WOW64) AppleWebK...</td>\n",
       "      <td>300009</td>\n",
       "      <td>0</td>\n",
       "      <td>16</td>\n",
       "      <td>11</td>\n",
       "      <td>10</td>\n",
       "      <td>4</td>\n",
       "    </tr>\n",
       "  </tbody>\n",
       "</table>\n",
       "<p>1 rows × 23 columns</p>\n",
       "</div>"
      ],
      "text/plain": [
       "                 artist       auth firstName gender  itemInSession lastName  \\\n",
       "219412  Andres Calamaro  Logged In    Lauren      F            151    Boone   \n",
       "\n",
       "           length level          location method   ...         song  status  \\\n",
       "219412  227.16036  paid  St. Louis, MO-IL    PUT   ...    No Va Mas     200   \n",
       "\n",
       "                   ts                                          userAgent  \\\n",
       "219412  1539275060000  \"Mozilla/5.0 (Windows NT 6.1; WOW64) AppleWebK...   \n",
       "\n",
       "        userId  churn hour day  month weekday  \n",
       "219412  300009      0   16  11     10       4  \n",
       "\n",
       "[1 rows x 23 columns]"
      ]
     },
     "execution_count": 20,
     "metadata": {},
     "output_type": "execute_result"
    }
   ],
   "source": [
    "pdf = sdf.toPandas()\n",
    "pdf.sample(1)"
   ]
  },
  {
   "cell_type": "code",
   "execution_count": 32,
   "metadata": {},
   "outputs": [],
   "source": [
    "def group_by_col(col, churn, percent=False):\n",
    "    ''' \n",
    "    INPUT\n",
    "    col: str the column to plot (hour, month, day, week_day)\n",
    "    churn: binary (0 or 1)\n",
    "    percent: boolean (Default False)\n",
    "    OUTPUT\n",
    "    Returns a series of churn or active users.\n",
    "    If percent = True, returns a percent value\n",
    "    '''\n",
    "    array = pdf[pdf.churn == churn].groupby([col])['userId'].count()\n",
    "    try:\n",
    "        array.index = array.index.astype(int)\n",
    "    except:\n",
    "        pass\n",
    "    if percent:\n",
    "        array=array/array.sum()*100\n",
    "    return array.sort_index()\n",
    "\n",
    "def draw_time(col, plot_style='bar', normalize=True, lab_angle=0, figsize=(16,4), title=None):\n",
    "    '''\n",
    "    Draw a bar plot for churn and existing users based on \n",
    "         a specific column (hour, month, day, week_day)\n",
    "         \n",
    "    normalize: {bool} T/F, Default is True\n",
    "    figsize: {tuple} the plot size, default is (16,4)\n",
    "    title: descriptive title part\n",
    "    Returns: None\n",
    "    '''\n",
    "    by_time = pd.DataFrame({'Cancelled': group_by_col(col, 1, normalize),\n",
    "                            'Active users':group_by_col(col, 0, normalize)})\n",
    "    ax = by_time.plot(kind= plot_style, figsize=figsize, color=['#f0aaaa','#9daecf'], linewidth=4);\n",
    "    \n",
    "    try:\n",
    "        title = col\n",
    "        ax.set_title(f'Percent of users took action per {title}') \n",
    "    except:\n",
    "        pass\n",
    "    ax.set_ylabel(f'Activity of users(percentage)')\n",
    "    ax.set_xticklabels(ax.get_xticklabels(), rotation=lab_angle)\n",
    "\n",
    "    return ax"
   ]
  },
  {
   "cell_type": "markdown",
   "metadata": {},
   "source": [
    "Although **there´s not enough months data** to extract valuable information, churn users were more active in October, whereas active users were more active during November. Maybe due to the closeness of Christmas and yearly renewal fees are coming? "
   ]
  },
  {
   "cell_type": "code",
   "execution_count": 33,
   "metadata": {
    "scrolled": true
   },
   "outputs": [
    {
     "data": {
      "text/plain": [
       "<matplotlib.axes._subplots.AxesSubplot at 0x7f09991ab470>"
      ]
     },
     "execution_count": 33,
     "metadata": {},
     "output_type": "execute_result"
    },
    {
     "data": {
      "image/png": "[encoded data removed]",
      "text/plain": [
       "<matplotlib.figure.Figure at 0x7f09935e8668>"
      ]
     },
     "metadata": {
      "needs_background": "light"
     },
     "output_type": "display_data"
    }
   ],
   "source": [
    "draw_time('month', 'bar', title='month', figsize=(4,3))"
   ]
  },
  {
   "cell_type": "markdown",
   "metadata": {},
   "source": [
    "When looking at the **day of the month**, we observe:\n",
    "- Active users interact regularly with the platform, no trends to remark.\n",
    "- Churn users are much more active during the first days of the month, decreasing their activity when reaching the end of the month. This makes sense as renewal charges use to come with the last days of the month"
   ]
  },
  {
   "cell_type": "code",
   "execution_count": 37,
   "metadata": {},
   "outputs": [
    {
     "data": {
      "image/png": "[encoded data removed]",
      "text/plain": [
       "<matplotlib.figure.Figure at 0x7f098ab22a58>"
      ]
     },
     "metadata": {
      "needs_background": "light"
     },
     "output_type": "display_data"
    }
   ],
   "source": [
    "draw_time('day', 'line', title='day month');"
   ]
  },
  {
   "cell_type": "markdown",
   "metadata": {},
   "source": [
    "**Activity by hour**\n",
    "\n",
    "There is not a significative difference between active and churn users when looking at their behaviour in the platform by hour. Churn users seem to be more active between 15-20h, something that could have some inffluence in the prediction of our model"
   ]
  },
  {
   "cell_type": "code",
   "execution_count": 39,
   "metadata": {},
   "outputs": [
    {
     "data": {
      "image/png": "[encoded data removed]",
      "text/plain": [
       "<matplotlib.figure.Figure at 0x7f098486eef0>"
      ]
     },
     "metadata": {
      "needs_background": "light"
     },
     "output_type": "display_data"
    }
   ],
   "source": [
    "draw_time('hour', 'line', title='hour of the day');"
   ]
  },
  {
   "cell_type": "markdown",
   "metadata": {},
   "source": [
    "When looking at the **activity by weekday**, we spot a decrease in the usage in Mondays and Sundays, but not huge difference between Churn and Active users. However, churn users use more the platform over active users on Mondays, whereas it happens the opposite on Fridays and Saturdays."
   ]
  },
  {
   "cell_type": "code",
   "execution_count": 25,
   "metadata": {
    "scrolled": true
   },
   "outputs": [
    {
     "data": {
      "image/png": "[encoded data removed]",
      "text/plain": [
       "<matplotlib.figure.Figure at 0x7f6ac16958d0>"
      ]
     },
     "metadata": {
      "needs_background": "light"
     },
     "output_type": "display_data"
    }
   ],
   "source": [
    "draw_time('weekday', 'bar', title='hour of the day');"
   ]
  },
  {
   "cell_type": "markdown",
   "metadata": {},
   "source": [
    "## Categorical features\n",
    "\n",
    "- **OS feature from userAgent** Regarding the analysis below, it seems that Mac users are more satisfied with the service, so they tend to be more active than free users. When digging deeper, it turns that Ipad and Iphone users are indeed quite happy with Sparkify paid account, but not Mac0S desktop. Possible questions are: is the UX better in Iphone and Ipad? Shall we redefine Windows user interface to improve their feeling with the service?\n",
    "\n",
    "This an evidence of why we want to create new features, they can bring potential predictive power.\n"
   ]
  },
  {
   "cell_type": "code",
   "execution_count": 26,
   "metadata": {},
   "outputs": [
    {
     "data": {
      "text/plain": [
       "({'Linux', 'MacOS', 'Windows'},\n",
       " {'Compatible',\n",
       "  'Ipad',\n",
       "  'Iphone',\n",
       "  'Linux',\n",
       "  'MacOS',\n",
       "  'Windows 7 on',\n",
       "  'Windows XP'})"
      ]
     },
     "execution_count": 26,
     "metadata": {},
     "output_type": "execute_result"
    }
   ],
   "source": [
    "# Extract OS from userAgent\n",
    "agents = [x.strip() for x  in pdf.userAgent.unique()] \n",
    "#Define regular expresion\n",
    "reg_ = '\\(([^\\)]*)\\)'\n",
    "\n",
    "# Check unique values for OS system\n",
    "unique_OS = list(set([re.findall(reg_, x)[0].split(';')[0].capitalize() for x  in agents]))\n",
    "# Set mapping values to have just general OS, no versions\n",
    "general_OS = ['MacOS', 'MacOS', 'Windows', 'Windows', 'Linux', \n",
    "              'Windows', 'Windows', 'Windows', 'Windows', 'MacOS']\n",
    "version_OS = ['MacOS', 'Iphone', 'Windows 7 on', 'Windows XP', 'Linux', \n",
    "              'Windows 7 on', 'Windows 7 on', 'Windows 7 on', 'Compatible', 'Ipad']\n",
    "# Create mapping dict\n",
    "general_map_labels = {unique_OS[i]: general_OS[i] for i in range(len(unique_OS))} \n",
    "version_map_labels = {unique_OS[i]: version_OS[i] for i in range(len(unique_OS))} \n",
    "# Check\n",
    "set([general_map_labels[re.findall(reg_, x)[0].split(';')[0].capitalize()] for x  in agents]), \\\n",
    "set([version_map_labels[re.findall(reg_, x)[0].split(';')[0].capitalize()] for x  in agents])"
   ]
  },
  {
   "cell_type": "code",
   "execution_count": 27,
   "metadata": {},
   "outputs": [
    {
     "data": {
      "text/plain": [
       "<matplotlib.axes._subplots.AxesSubplot at 0x7f6aa98a0438>"
      ]
     },
     "execution_count": 27,
     "metadata": {},
     "output_type": "execute_result"
    },
    {
     "data": {
      "image/png": "[encoded data removed]",
      "text/plain": [
       "<matplotlib.figure.Figure at 0x7f6acc28e2b0>"
      ]
     },
     "metadata": {
      "needs_background": "light"
     },
     "output_type": "display_data"
    },
    {
     "data": {
      "image/png": "[encoded data removed]",
      "text/plain": [
       "<matplotlib.figure.Figure at 0x7f6aafe862b0>"
      ]
     },
     "metadata": {
      "needs_background": "light"
     },
     "output_type": "display_data"
    }
   ],
   "source": [
    "# Define user defined functions\n",
    "os_general = udf(lambda x: general_map_labels[re.findall(reg_, x)[0].split(';')[0].capitalize()])\n",
    "os_version = udf(lambda x: version_map_labels[re.findall(reg_, x)[0].split(';')[0].capitalize()])\n",
    "\n",
    "# Add columns\n",
    "sdf = sdf.withColumn(\"os_general\", os_general(sdf.userAgent))\n",
    "sdf = sdf.withColumn(\"os_version\", os_version(sdf.userAgent))\n",
    "\n",
    "# Turn to pandas for plotting\n",
    "pdf = sdf.toPandas()\n",
    "\n",
    "# Plot\n",
    "draw_time('os_general', 'barh', lab_angle=65, figsize=(6,5)) \n",
    "draw_time('os_version', 'barh', lab_angle=65, figsize=(6,5))"
   ]
  },
  {
   "cell_type": "markdown",
   "metadata": {},
   "source": [
    "- **Location**. Extract generalizable categorical info from 'location', as state. After plotting results it is easy to spot that states where users are based has a strong inffluence in whether they are active or churn users."
   ]
  },
  {
   "cell_type": "code",
   "execution_count": 28,
   "metadata": {},
   "outputs": [
    {
     "data": {
      "image/png": "[encoded data removed]",
      "text/plain": [
       "<matplotlib.figure.Figure at 0x7f6ab58ab9b0>"
      ]
     },
     "metadata": {
      "needs_background": "light"
     },
     "output_type": "display_data"
    }
   ],
   "source": [
    "# Define a function to extract state from locatio feature\n",
    "get_state = udf(lambda x: x.split(',')[1].strip())\n",
    "sdf = sdf.withColumn(\"state\", get_state(sdf.location))\n",
    "\n",
    "# Turn to pandas for plotting\n",
    "pdf = sdf.toPandas()\n",
    "# Plot\n",
    "draw_time('state', 'bar', title='hour of the day', lab_angle=65);"
   ]
  },
  {
   "cell_type": "markdown",
   "metadata": {},
   "source": [
    "# Feature Engineering\n",
    "Once you've familiarized yourself with the data, build out the features you find promising to train your model on. To work with the full dataset, you can follow the following steps.\n",
    "- Write a script to extract the necessary features from the smaller subset of data\n",
    "- Ensure that your script is scalable, using the best practices discussed in Lesson 3\n",
    "- Try your script on the full data set, debugging your script if necessary\n",
    "\n",
    "If you are working in the classroom workspace, you can just extract features based on the small subset of data contained here. Be sure to transfer over this work to the larger dataset when you work on your Spark cluster."
   ]
  },
  {
   "cell_type": "markdown",
   "metadata": {},
   "source": [
    "## Features we want to keep:\n",
    "\n",
    "**Numeric features**\n",
    "- Num of ThumbsUp\n",
    "- Num of ThumbsDown\n",
    "- Num of InviteFriends\n",
    "- Num of downgrades\n",
    "- Num of songs per session\n",
    "- ... basically counting appearances of **all possible values for the 'page' feature**\n",
    "\n",
    "- Num of artists the user fans\n",
    "- Session's duration\n",
    "- Sessions' count per user\n",
    "- Song length per user per session\n",
    "- Percentage of paid/free songs a user has played\n",
    "\n",
    "**Categoric features (needs to be converted to numeric form through dummi encoding**\n",
    "- Gender of user\n",
    "- The user's OS os_specific"
   ]
  },
  {
   "cell_type": "code",
   "execution_count": 29,
   "metadata": {},
   "outputs": [
    {
     "name": "stdout",
     "output_type": "stream",
     "text": [
      "+------+-----+\n",
      "|userId|churn|\n",
      "+------+-----+\n",
      "|100010|    0|\n",
      "|200002|    0|\n",
      "|   125|    1|\n",
      "|   124|    0|\n",
      "+------+-----+\n",
      "only showing top 4 rows\n",
      "\n"
     ]
    }
   ],
   "source": [
    "churn_users = sdf.select('userId', 'churn').dropDuplicates()\n",
    "# check\n",
    "churn_users.show(4)"
   ]
  },
  {
   "cell_type": "code",
   "execution_count": 30,
   "metadata": {},
   "outputs": [],
   "source": [
    "def create_dummy(col, map):\n",
    "    '''\n",
    "    INPUT\n",
    "    col: col(feature) name\n",
    "    map: dictionary mapping to integer values\n",
    "    OUTPUT:\n",
    "    - Create a Dataframe of 2 columns\n",
    "    '''\n",
    "    # First, map to string numbers. Otherwise spark would return an error\n",
    "    # Convert then the column to numeric value\n",
    "    col_df = sdf.select('userId', col).dropDuplicates().replace(map, subset=col) \n",
    "    col_df = col_df.select('userId', col_df[col].cast('int'))\n",
    "    # Check value types\n",
    "    print(col_df.printSchema())\n",
    "#     print(col_df.show(3))\n",
    "    return col_df\n"
   ]
  },
  {
   "cell_type": "markdown",
   "metadata": {},
   "source": [
    "**Dummy variables from 'gender' and 'level'**  \n",
    "Although we will not use level for the final_df, it will be used for engineering other feature below."
   ]
  },
  {
   "cell_type": "code",
   "execution_count": 31,
   "metadata": {},
   "outputs": [
    {
     "name": "stdout",
     "output_type": "stream",
     "text": [
      "root\n",
      " |-- userId: string (nullable = true)\n",
      " |-- gender: integer (nullable = true)\n",
      "\n",
      "None\n",
      "root\n",
      " |-- userId: string (nullable = true)\n",
      " |-- level: integer (nullable = true)\n",
      "\n",
      "None\n"
     ]
    }
   ],
   "source": [
    "gender_df = create_dummy('gender', {'M':'1', 'F':'0'})\n",
    "level_df = create_dummy('level', {'paid':'1', 'free':'0'})"
   ]
  },
  {
   "cell_type": "markdown",
   "metadata": {},
   "source": [
    "**Get Dummies from 'os_version', a categoric feature with multiple labels**"
   ]
  },
  {
   "cell_type": "code",
   "execution_count": 32,
   "metadata": {},
   "outputs": [
    {
     "name": "stdout",
     "output_type": "stream",
     "text": [
      "+------+---------------+--------+--------+---------+-------+-------------+-------------+\n",
      "|userId|OS_Windows 7 on|OS_Linux|OS_MacOS|OS_Iphone|OS_Ipad|OS_Windows XP|OS_Compatible|\n",
      "+------+---------------+--------+--------+---------+-------+-------------+-------------+\n",
      "|    30|              1|       0|       0|        0|      0|            0|            0|\n",
      "|     9|              1|       0|       0|        0|      0|            0|            0|\n",
      "+------+---------------+--------+--------+---------+-------+-------------+-------------+\n",
      "only showing top 2 rows\n",
      "\n",
      "root\n",
      " |-- userId: string (nullable = true)\n",
      " |-- OS_Windows 7 on: integer (nullable = false)\n",
      " |-- OS_Linux: integer (nullable = false)\n",
      " |-- OS_MacOS: integer (nullable = false)\n",
      " |-- OS_Iphone: integer (nullable = false)\n",
      " |-- OS_Ipad: integer (nullable = false)\n",
      " |-- OS_Windows XP: integer (nullable = false)\n",
      " |-- OS_Compatible: integer (nullable = false)\n",
      "\n"
     ]
    }
   ],
   "source": [
    "# Got solution from stackoverflow forum\n",
    "\n",
    "os_names =  sdf.select('os_version').distinct().rdd.flatMap(lambda x: x).collect()\n",
    "function = [sF.when(sF.col('os_version') == osdt, 1).otherwise(0).alias(\"OS_\" + osdt) for osdt in os_names]\n",
    "os_version_df = sdf.select('userId', *function)\n",
    "os_version_df.show(2)\n",
    "\n",
    "# Check value types\n",
    "os_version_df.printSchema()"
   ]
  },
  {
   "cell_type": "markdown",
   "metadata": {},
   "source": [
    "**Number of sessions per user**. Just make a count of the number of sessions each user has opened."
   ]
  },
  {
   "cell_type": "code",
   "execution_count": 33,
   "metadata": {},
   "outputs": [
    {
     "name": "stdout",
     "output_type": "stream",
     "text": [
      "+------+------------+\n",
      "|userId|num_sessions|\n",
      "+------+------------+\n",
      "|100010|           7|\n",
      "|200002|           6|\n",
      "|   125|           1|\n",
      "+------+------------+\n",
      "only showing top 3 rows\n",
      "\n"
     ]
    }
   ],
   "source": [
    "num_session_df = sdf.select('userId', 'sessionId').dropDuplicates().groupby('userId').count().withColumnRenamed('count', 'num_sessions')\n",
    "num_session_df.show(3)"
   ]
  },
  {
   "cell_type": "markdown",
   "metadata": {},
   "source": [
    "**Calculate Mean and Standard Deviation for each user´s:**\n",
    "- Session duration \n",
    "- Song lengh\n",
    "- Number of songs per session"
   ]
  },
  {
   "cell_type": "markdown",
   "metadata": {},
   "source": [
    "Song lengh:"
   ]
  },
  {
   "cell_type": "code",
   "execution_count": 34,
   "metadata": {},
   "outputs": [
    {
     "data": {
      "text/html": [
       "<div>\n",
       "<style scoped>\n",
       "    .dataframe tbody tr th:only-of-type {\n",
       "        vertical-align: middle;\n",
       "    }\n",
       "\n",
       "    .dataframe tbody tr th {\n",
       "        vertical-align: top;\n",
       "    }\n",
       "\n",
       "    .dataframe thead th {\n",
       "        text-align: right;\n",
       "    }\n",
       "</style>\n",
       "<table border=\"1\" class=\"dataframe\">\n",
       "  <thead>\n",
       "    <tr style=\"text-align: right;\">\n",
       "      <th></th>\n",
       "      <th>userId</th>\n",
       "      <th>mean_hours</th>\n",
       "      <th>stdev_hours</th>\n",
       "    </tr>\n",
       "  </thead>\n",
       "  <tbody>\n",
       "    <tr>\n",
       "      <th>0</th>\n",
       "      <td>100010</td>\n",
       "      <td>2.656385</td>\n",
       "      <td>1.594089</td>\n",
       "    </tr>\n",
       "    <tr>\n",
       "      <th>1</th>\n",
       "      <td>200002</td>\n",
       "      <td>4.352263</td>\n",
       "      <td>3.481087</td>\n",
       "    </tr>\n",
       "  </tbody>\n",
       "</table>\n",
       "</div>"
      ],
      "text/plain": [
       "   userId  mean_hours  stdev_hours\n",
       "0  100010    2.656385     1.594089\n",
       "1  200002    4.352263     3.481087"
      ]
     },
     "execution_count": 34,
     "metadata": {},
     "output_type": "execute_result"
    }
   ],
   "source": [
    "# Song lenght\n",
    "song_length_df = sdf.filter(sdf.page=='NextSong').select('userId', 'sessionId', 'length')\n",
    "song_length_df = song_length_df.withColumn('hours', (song_length_df.length / 3600))\n",
    "song_length_df = song_length_df.groupBy('userId', 'sessionId').sum('hours')\n",
    "song_length_df = song_length_df.groupBy('userId').agg(\n",
    "                        sF.avg('sum(hours)').alias('mean_hours'), \n",
    "                        sF.stddev('sum(hours)').alias('stdev_hours')).na.fill(0)\n",
    "song_length_df.toPandas().head(2)"
   ]
  },
  {
   "cell_type": "markdown",
   "metadata": {},
   "source": [
    "Session duration"
   ]
  },
  {
   "cell_type": "code",
   "execution_count": 35,
   "metadata": {},
   "outputs": [
    {
     "name": "stdout",
     "output_type": "stream",
     "text": [
      "+------+---------+------------------+\n",
      "|userId|sessionId|     session_hours|\n",
      "+------+---------+------------------+\n",
      "|   101|      635|55.000277777777775|\n",
      "|   110|     1776|1.3908333333333334|\n",
      "|   120|      627|15.855555555555556|\n",
      "+------+---------+------------------+\n",
      "only showing top 3 rows\n",
      "\n",
      "+------+-----------------+------------------+\n",
      "|userId|   mean_session_h|   stdev_session_h|\n",
      "+------+-----------------+------------------+\n",
      "|100010|2.574722222222223|1.5888758093219746|\n",
      "|200002|             4.44| 3.615756029749058|\n",
      "+------+-----------------+------------------+\n",
      "only showing top 2 rows\n",
      "\n"
     ]
    }
   ],
   "source": [
    "# First, get Session Duration per each session for each user\n",
    "start_session = sdf.groupBy('userId', 'sessionId').min('ts').withColumnRenamed(\n",
    "                                                            'min(ts)', 'start')\n",
    "finish_session = sdf.groupBy('userId', 'sessionId').max('ts').withColumnRenamed(\n",
    "                                                            'max(ts)', 'end')\n",
    "sessions_df = start_session.join(finish_session,['userId', 'sessionId'])\n",
    "# seconds in an hour\n",
    "seconds_hour = 1000 * 60 * 60\n",
    "sessions_df = sessions_df.select('userId', 'sessionId', ((\n",
    "    sessions_df.end-sessions_df.start)/seconds_hour).alias('session_hours'))\n",
    "sessions_df.show(3)\n",
    "\n",
    "# Calculate Average and Standard Deviation all session´s duration for each user\n",
    "session_user_df = sessions_df.groupBy('userId').agg(\n",
    "                        sF.avg('session_hours').alias('mean_session_h'), \n",
    "                        sF.stddev('session_hours').alias('stdev_session_h'))\n",
    "# Fill NaN with 0\n",
    "session_user_df = session_user_df.na.fill(0)\n",
    "session_user_df.show(2)"
   ]
  },
  {
   "cell_type": "markdown",
   "metadata": {},
   "source": [
    "Number of songs per session"
   ]
  },
  {
   "cell_type": "code",
   "execution_count": 36,
   "metadata": {},
   "outputs": [
    {
     "name": "stdout",
     "output_type": "stream",
     "text": [
      "+------+------------------+------------------+\n",
      "|userId|        mean_songs|       stdev_songs|\n",
      "+------+------------------+------------------+\n",
      "|100010|39.285714285714285| 22.96166577663945|\n",
      "|200002|              64.5|51.309843110264914|\n",
      "|   125|               8.0|               0.0|\n",
      "+------+------------------+------------------+\n",
      "only showing top 3 rows\n",
      "\n"
     ]
    }
   ],
   "source": [
    "# number of changing songs\n",
    "song_user_df = sdf.filter(sdf.page == 'NextSong').groupBy(\n",
    "                        'userId', 'sessionId').count()\n",
    "song_user_df = song_user_df.groupBy('userId').agg(\n",
    "                        sF.avg('count').alias('mean_songs'), \n",
    "                        sF.stddev('count').alias('stdev_songs'))\n",
    "song_user_df = song_user_df.na.fill(0)\n",
    "song_user_df.show(3)"
   ]
  },
  {
   "cell_type": "markdown",
   "metadata": {},
   "source": [
    "**Data engineering for the 'page' feature:**\n",
    "\n",
    "- We will count the frequency of each kind of page for each user, normalizing the values by calculating the percentage of each page in relation with the total of pages the user visited.\n",
    "- Users visiting the pages 'Cancel' and 'Cancellation Confirmation' are users that have already cancelled his/her subscription, so in terms of our analysis, we already know such information (churn feature). Thus, we are rather interested in any of the other pages the were visiting before cancelling or remaining. We will get rid of those cancellation pages for the sake of the analysis and the model.\n",
    "\n",
    "Normalizing each row to sum to 1\n",
    "SOURCES\n",
    "https://stackoverflow.com/questions/47641076/spark-normalize-each-row-of-a-dataframe\n",
    "https://stackoverflow.com/questions/31955309/add-column-sum-as-new-column-in-pyspark-dataframe\n"
   ]
  },
  {
   "cell_type": "code",
   "execution_count": 37,
   "metadata": {},
   "outputs": [
    {
     "name": "stdout",
     "output_type": "stream",
     "text": [
      "+--------------------+\n",
      "|                page|\n",
      "+--------------------+\n",
      "|              Cancel|\n",
      "|    Submit Downgrade|\n",
      "|         Thumbs Down|\n",
      "|                Home|\n",
      "|           Downgrade|\n",
      "|         Roll Advert|\n",
      "|              Logout|\n",
      "|       Save Settings|\n",
      "|Cancellation Conf...|\n",
      "|               About|\n",
      "|            Settings|\n",
      "|     Add to Playlist|\n",
      "|          Add Friend|\n",
      "|            NextSong|\n",
      "|           Thumbs Up|\n",
      "|                Help|\n",
      "|             Upgrade|\n",
      "|               Error|\n",
      "|      Submit Upgrade|\n",
      "+--------------------+\n",
      "\n"
     ]
    }
   ],
   "source": [
    "sdf.dropDuplicates(['page']).select('page').show()"
   ]
  },
  {
   "cell_type": "code",
   "execution_count": 38,
   "metadata": {},
   "outputs": [
    {
     "data": {
      "text/html": [
       "<div>\n",
       "<style scoped>\n",
       "    .dataframe tbody tr th:only-of-type {\n",
       "        vertical-align: middle;\n",
       "    }\n",
       "\n",
       "    .dataframe tbody tr th {\n",
       "        vertical-align: top;\n",
       "    }\n",
       "\n",
       "    .dataframe thead th {\n",
       "        text-align: right;\n",
       "    }\n",
       "</style>\n",
       "<table border=\"1\" class=\"dataframe\">\n",
       "  <thead>\n",
       "    <tr style=\"text-align: right;\">\n",
       "      <th></th>\n",
       "      <th>userId</th>\n",
       "      <th>About</th>\n",
       "      <th>Add Friend</th>\n",
       "      <th>Add to Playlist</th>\n",
       "      <th>Downgrade</th>\n",
       "      <th>Error</th>\n",
       "      <th>Help</th>\n",
       "      <th>Home</th>\n",
       "      <th>Logout</th>\n",
       "      <th>NextSong</th>\n",
       "      <th>Roll Advert</th>\n",
       "      <th>Save Settings</th>\n",
       "      <th>Settings</th>\n",
       "      <th>Submit Downgrade</th>\n",
       "      <th>Submit Upgrade</th>\n",
       "      <th>Thumbs Down</th>\n",
       "      <th>Thumbs Up</th>\n",
       "      <th>Upgrade</th>\n",
       "    </tr>\n",
       "  </thead>\n",
       "  <tbody>\n",
       "    <tr>\n",
       "      <th>0</th>\n",
       "      <td>200002</td>\n",
       "      <td>0.632911</td>\n",
       "      <td>0.843882</td>\n",
       "      <td>1.687764</td>\n",
       "      <td>1.054852</td>\n",
       "      <td>0.000000</td>\n",
       "      <td>0.421941</td>\n",
       "      <td>4.219409</td>\n",
       "      <td>1.054852</td>\n",
       "      <td>81.645570</td>\n",
       "      <td>1.476793</td>\n",
       "      <td>0.000000</td>\n",
       "      <td>0.632911</td>\n",
       "      <td>0.000000</td>\n",
       "      <td>0.210970</td>\n",
       "      <td>1.265823</td>\n",
       "      <td>4.430380</td>\n",
       "      <td>0.421941</td>\n",
       "    </tr>\n",
       "    <tr>\n",
       "      <th>1</th>\n",
       "      <td>100010</td>\n",
       "      <td>0.262467</td>\n",
       "      <td>1.049869</td>\n",
       "      <td>1.837270</td>\n",
       "      <td>0.000000</td>\n",
       "      <td>0.000000</td>\n",
       "      <td>0.524934</td>\n",
       "      <td>2.887139</td>\n",
       "      <td>1.312336</td>\n",
       "      <td>72.178478</td>\n",
       "      <td>13.648294</td>\n",
       "      <td>0.000000</td>\n",
       "      <td>0.000000</td>\n",
       "      <td>0.000000</td>\n",
       "      <td>0.000000</td>\n",
       "      <td>1.312336</td>\n",
       "      <td>4.461942</td>\n",
       "      <td>0.524934</td>\n",
       "    </tr>\n",
       "    <tr>\n",
       "      <th>2</th>\n",
       "      <td>125</td>\n",
       "      <td>0.000000</td>\n",
       "      <td>0.000000</td>\n",
       "      <td>0.000000</td>\n",
       "      <td>0.000000</td>\n",
       "      <td>0.000000</td>\n",
       "      <td>0.000000</td>\n",
       "      <td>0.000000</td>\n",
       "      <td>0.000000</td>\n",
       "      <td>88.888889</td>\n",
       "      <td>11.111111</td>\n",
       "      <td>0.000000</td>\n",
       "      <td>0.000000</td>\n",
       "      <td>0.000000</td>\n",
       "      <td>0.000000</td>\n",
       "      <td>0.000000</td>\n",
       "      <td>0.000000</td>\n",
       "      <td>0.000000</td>\n",
       "    </tr>\n",
       "    <tr>\n",
       "      <th>3</th>\n",
       "      <td>51</td>\n",
       "      <td>0.081235</td>\n",
       "      <td>1.137287</td>\n",
       "      <td>2.112104</td>\n",
       "      <td>0.934200</td>\n",
       "      <td>0.040617</td>\n",
       "      <td>0.487409</td>\n",
       "      <td>3.046304</td>\n",
       "      <td>0.974817</td>\n",
       "      <td>85.743298</td>\n",
       "      <td>0.000000</td>\n",
       "      <td>0.040617</td>\n",
       "      <td>0.487409</td>\n",
       "      <td>0.000000</td>\n",
       "      <td>0.000000</td>\n",
       "      <td>0.852965</td>\n",
       "      <td>4.061738</td>\n",
       "      <td>0.000000</td>\n",
       "    </tr>\n",
       "    <tr>\n",
       "      <th>4</th>\n",
       "      <td>124</td>\n",
       "      <td>0.145078</td>\n",
       "      <td>1.533679</td>\n",
       "      <td>2.445596</td>\n",
       "      <td>0.849741</td>\n",
       "      <td>0.124352</td>\n",
       "      <td>0.476684</td>\n",
       "      <td>3.647668</td>\n",
       "      <td>1.222798</td>\n",
       "      <td>84.538860</td>\n",
       "      <td>0.082902</td>\n",
       "      <td>0.124352</td>\n",
       "      <td>0.414508</td>\n",
       "      <td>0.000000</td>\n",
       "      <td>0.000000</td>\n",
       "      <td>0.849741</td>\n",
       "      <td>3.544041</td>\n",
       "      <td>0.000000</td>\n",
       "    </tr>\n",
       "    <tr>\n",
       "      <th>5</th>\n",
       "      <td>7</td>\n",
       "      <td>0.000000</td>\n",
       "      <td>0.497512</td>\n",
       "      <td>2.487562</td>\n",
       "      <td>0.000000</td>\n",
       "      <td>0.497512</td>\n",
       "      <td>0.497512</td>\n",
       "      <td>4.975124</td>\n",
       "      <td>1.492537</td>\n",
       "      <td>74.626866</td>\n",
       "      <td>7.960199</td>\n",
       "      <td>0.497512</td>\n",
       "      <td>1.492537</td>\n",
       "      <td>0.000000</td>\n",
       "      <td>0.000000</td>\n",
       "      <td>0.497512</td>\n",
       "      <td>3.482587</td>\n",
       "      <td>0.995025</td>\n",
       "    </tr>\n",
       "    <tr>\n",
       "      <th>6</th>\n",
       "      <td>54</td>\n",
       "      <td>0.145560</td>\n",
       "      <td>0.960699</td>\n",
       "      <td>2.096070</td>\n",
       "      <td>1.135371</td>\n",
       "      <td>0.029112</td>\n",
       "      <td>0.494905</td>\n",
       "      <td>3.755459</td>\n",
       "      <td>1.048035</td>\n",
       "      <td>82.707424</td>\n",
       "      <td>1.368268</td>\n",
       "      <td>0.087336</td>\n",
       "      <td>0.494905</td>\n",
       "      <td>0.029112</td>\n",
       "      <td>0.029112</td>\n",
       "      <td>0.844250</td>\n",
       "      <td>4.745269</td>\n",
       "      <td>0.029112</td>\n",
       "    </tr>\n",
       "    <tr>\n",
       "      <th>7</th>\n",
       "      <td>15</td>\n",
       "      <td>0.087796</td>\n",
       "      <td>1.360843</td>\n",
       "      <td>2.589991</td>\n",
       "      <td>1.229148</td>\n",
       "      <td>0.087796</td>\n",
       "      <td>0.351185</td>\n",
       "      <td>4.082529</td>\n",
       "      <td>1.185250</td>\n",
       "      <td>84.021071</td>\n",
       "      <td>0.043898</td>\n",
       "      <td>0.087796</td>\n",
       "      <td>0.702371</td>\n",
       "      <td>0.000000</td>\n",
       "      <td>0.000000</td>\n",
       "      <td>0.614574</td>\n",
       "      <td>3.555751</td>\n",
       "      <td>0.000000</td>\n",
       "    </tr>\n",
       "    <tr>\n",
       "      <th>8</th>\n",
       "      <td>155</td>\n",
       "      <td>0.199601</td>\n",
       "      <td>1.097804</td>\n",
       "      <td>2.395210</td>\n",
       "      <td>1.197605</td>\n",
       "      <td>0.299401</td>\n",
       "      <td>0.898204</td>\n",
       "      <td>2.994012</td>\n",
       "      <td>1.397206</td>\n",
       "      <td>81.836327</td>\n",
       "      <td>0.798403</td>\n",
       "      <td>0.000000</td>\n",
       "      <td>0.499002</td>\n",
       "      <td>0.000000</td>\n",
       "      <td>0.099800</td>\n",
       "      <td>0.299401</td>\n",
       "      <td>5.788423</td>\n",
       "      <td>0.199601</td>\n",
       "    </tr>\n",
       "    <tr>\n",
       "      <th>9</th>\n",
       "      <td>132</td>\n",
       "      <td>0.173611</td>\n",
       "      <td>1.779514</td>\n",
       "      <td>1.649306</td>\n",
       "      <td>0.824653</td>\n",
       "      <td>0.130208</td>\n",
       "      <td>0.694444</td>\n",
       "      <td>3.602431</td>\n",
       "      <td>1.475694</td>\n",
       "      <td>83.680556</td>\n",
       "      <td>0.086806</td>\n",
       "      <td>0.173611</td>\n",
       "      <td>0.737847</td>\n",
       "      <td>0.000000</td>\n",
       "      <td>0.043403</td>\n",
       "      <td>0.737847</td>\n",
       "      <td>4.166667</td>\n",
       "      <td>0.043403</td>\n",
       "    </tr>\n",
       "  </tbody>\n",
       "</table>\n",
       "</div>"
      ],
      "text/plain": [
       "   userId     About  Add Friend  Add to Playlist  Downgrade     Error  \\\n",
       "0  200002  0.632911    0.843882         1.687764   1.054852  0.000000   \n",
       "1  100010  0.262467    1.049869         1.837270   0.000000  0.000000   \n",
       "2     125  0.000000    0.000000         0.000000   0.000000  0.000000   \n",
       "3      51  0.081235    1.137287         2.112104   0.934200  0.040617   \n",
       "4     124  0.145078    1.533679         2.445596   0.849741  0.124352   \n",
       "5       7  0.000000    0.497512         2.487562   0.000000  0.497512   \n",
       "6      54  0.145560    0.960699         2.096070   1.135371  0.029112   \n",
       "7      15  0.087796    1.360843         2.589991   1.229148  0.087796   \n",
       "8     155  0.199601    1.097804         2.395210   1.197605  0.299401   \n",
       "9     132  0.173611    1.779514         1.649306   0.824653  0.130208   \n",
       "\n",
       "       Help      Home    Logout   NextSong  Roll Advert  Save Settings  \\\n",
       "0  0.421941  4.219409  1.054852  81.645570     1.476793       0.000000   \n",
       "1  0.524934  2.887139  1.312336  72.178478    13.648294       0.000000   \n",
       "2  0.000000  0.000000  0.000000  88.888889    11.111111       0.000000   \n",
       "3  0.487409  3.046304  0.974817  85.743298     0.000000       0.040617   \n",
       "4  0.476684  3.647668  1.222798  84.538860     0.082902       0.124352   \n",
       "5  0.497512  4.975124  1.492537  74.626866     7.960199       0.497512   \n",
       "6  0.494905  3.755459  1.048035  82.707424     1.368268       0.087336   \n",
       "7  0.351185  4.082529  1.185250  84.021071     0.043898       0.087796   \n",
       "8  0.898204  2.994012  1.397206  81.836327     0.798403       0.000000   \n",
       "9  0.694444  3.602431  1.475694  83.680556     0.086806       0.173611   \n",
       "\n",
       "   Settings  Submit Downgrade  Submit Upgrade  Thumbs Down  Thumbs Up  \\\n",
       "0  0.632911          0.000000        0.210970     1.265823   4.430380   \n",
       "1  0.000000          0.000000        0.000000     1.312336   4.461942   \n",
       "2  0.000000          0.000000        0.000000     0.000000   0.000000   \n",
       "3  0.487409          0.000000        0.000000     0.852965   4.061738   \n",
       "4  0.414508          0.000000        0.000000     0.849741   3.544041   \n",
       "5  1.492537          0.000000        0.000000     0.497512   3.482587   \n",
       "6  0.494905          0.029112        0.029112     0.844250   4.745269   \n",
       "7  0.702371          0.000000        0.000000     0.614574   3.555751   \n",
       "8  0.499002          0.000000        0.099800     0.299401   5.788423   \n",
       "9  0.737847          0.000000        0.043403     0.737847   4.166667   \n",
       "\n",
       "    Upgrade  \n",
       "0  0.421941  \n",
       "1  0.524934  \n",
       "2  0.000000  \n",
       "3  0.000000  \n",
       "4  0.000000  \n",
       "5  0.995025  \n",
       "6  0.029112  \n",
       "7  0.000000  \n",
       "8  0.199601  \n",
       "9  0.043403  "
      ]
     },
     "execution_count": 38,
     "metadata": {},
     "output_type": "execute_result"
    }
   ],
   "source": [
    "# Pages per user, dropping those pages directly related with churn.\n",
    "user_page_df = sdf.groupby('userId').pivot('page').count().na.fill(0) #.toPandas().head(30)\n",
    "user_page_df = user_page_df.drop(*['Cancel','Cancellation Confirmation'])\n",
    "\n",
    "# The columns we want to sum are all remaining in the df except UserId:\n",
    "# Calculate total pages per user and add to the df\n",
    "cols_to_sum = user_page_df.columns[1:]\n",
    "df_new = user_page_df.withColumn('total', sum(user_page_df[col] for col in cols_to_sum))\n",
    "# Apply normalization per column\n",
    "for col in cols_to_sum:\n",
    "    df_new = df_new.withColumn(f'norm_{col}', df_new[col] / df_new['total'] * 100.)\n",
    "    \n",
    "# Drop original columns + total column (we´ve already used it to nomalizethe new ones)\n",
    "df_new = df_new.drop('total') \n",
    "df_new = df_new.drop(*cols_to_sum)\n",
    "# reset column names\n",
    "colnames = df_new.columns\n",
    "new_colnames = ['userId'] + cols_to_sum\n",
    "user_page_df = reduce(lambda df_new, idx: df_new.withColumnRenamed(colnames[idx], new_colnames[idx]), range(len(colnames)), df_new)\n",
    "\n",
    "user_page_df.toPandas().head(10)"
   ]
  },
  {
   "cell_type": "markdown",
   "metadata": {},
   "source": [
    "**Number of artists each user consumes**"
   ]
  },
  {
   "cell_type": "code",
   "execution_count": 39,
   "metadata": {},
   "outputs": [
    {
     "name": "stdout",
     "output_type": "stream",
     "text": [
      "+------+----------+\n",
      "|userId|num_aritst|\n",
      "+------+----------+\n",
      "|100010|       253|\n",
      "|200002|       340|\n",
      "+------+----------+\n",
      "only showing top 2 rows\n",
      "\n"
     ]
    }
   ],
   "source": [
    "# Number of artists the user fans\n",
    "artists_user_fans_df = sdf.select('userId', 'artist').dropDuplicates().groupBy('userId').count().withColumnRenamed(\"count\", \"num_aritst\")\n",
    "artists_user_fans_df.show(2)"
   ]
  },
  {
   "cell_type": "markdown",
   "metadata": {},
   "source": [
    "**Free and paid histoy of each user**\n",
    "\n",
    "Instead of calculating the time a user has been paid or free user, we´ll calculate the proportion of free and paid songs each user has listened. We´ll then drop one of the percentages becuse including both does not make any sense are they are 100% correlated."
   ]
  },
  {
   "cell_type": "code",
   "execution_count": 40,
   "metadata": {},
   "outputs": [
    {
     "name": "stdout",
     "output_type": "stream",
     "text": [
      "+------+-----------------+\n",
      "|userId|     paid_percent|\n",
      "+------+-----------------+\n",
      "|200002|77.51937984496125|\n",
      "|100010|              0.0|\n",
      "|   125|              0.0|\n",
      "+------+-----------------+\n",
      "only showing top 3 rows\n",
      "\n"
     ]
    }
   ],
   "source": [
    "hist_free_pay_df = sdf.filter(sdf.page=='NextSong').groupBy('userId').pivot('level').count()\n",
    "hist_free_pay_df = hist_free_pay_df.na.fill(0)\n",
    "hist_cols = hist_free_pay_df.columns[1:]\n",
    "hist_free_pay_df = hist_free_pay_df.withColumn('total', \n",
    "                                       sum(hist_free_pay_df[col] for col in hist_cols))\n",
    "for col in hist_cols:\n",
    "    hist_free_pay_df = hist_free_pay_df.withColumn(f'{col}_percent', \n",
    "                                           hist_free_pay_df[col] / hist_free_pay_df.total * 100)\n",
    "hist_cols.append('total')    \n",
    "hist_free_pay_df = hist_free_pay_df.drop(*hist_cols)\n",
    "# Drop one of the columns \n",
    "hist_free_pay_df = hist_free_pay_df.drop('free_percent')\n",
    "hist_free_pay_df.show(3)"
   ]
  },
  {
   "cell_type": "markdown",
   "metadata": {},
   "source": [
    "### All together\n",
    "Join all the dfs we´ve been creating along the feature engineegring process to get it ready for MLearning modelling.\n",
    "1. Create an initial df with UserId and the churn feature, which is the target feature we´ll be predicting when modelling.\n",
    "2. Join each of the dfs we´ve created above, using UserId as key."
   ]
  },
  {
   "cell_type": "code",
   "execution_count": 86,
   "metadata": {},
   "outputs": [
    {
     "name": "stdout",
     "output_type": "stream",
     "text": [
      "+------+-----+\n",
      "|userId|churn|\n",
      "+------+-----+\n",
      "|100010|    0|\n",
      "|200002|    0|\n",
      "+------+-----+\n",
      "only showing top 2 rows\n",
      "\n"
     ]
    }
   ],
   "source": [
    "# Define a base df with userId and churn feature\n",
    "# We´ll then be adding all the dfs developed above\n",
    "all_df = sdf.select('userId', 'churn').dropDuplicates()\n",
    "all_df.show(2)"
   ]
  },
  {
   "cell_type": "code",
   "execution_count": 87,
   "metadata": {},
   "outputs": [],
   "source": [
    "# the features to collect and add to all_df. We´re excluding \"level_df\" as we´ve already used it to \n",
    "# engineer the paid and free songs features.\n",
    "feat_add_dfs = [gender_df, os_version_df, num_session_df, \n",
    "                 song_length_df, session_user_df, song_user_df, user_page_df, \n",
    "                 user_page_df, artists_user_fans_df, hist_free_pay_df]\n",
    "\n",
    "feat_add_names = ['gender_df', 'os_version_df', 'num_session_df', \n",
    "                 'song_length_df', 'session_user_df', 'song_user_df', 'user_page_df', \n",
    "                 'user_page_df', 'artists_user_fans_df', 'hist_free_pay_df']"
   ]
  },
  {
   "cell_type": "code",
   "execution_count": 88,
   "metadata": {},
   "outputs": [
    {
     "name": "stdout",
     "output_type": "stream",
     "text": [
      "Adding columns from gender_df df; Done in 3.0477523803710938 secs. New df´s dimensions are: 225 * 3\n",
      "Adding columns from os_version_df df; Done in 5.285120010375977 secs. New df´s dimensions are: 225 * 10\n",
      "Adding columns from num_session_df df; Done in 4.195070266723633 secs. New df´s dimensions are: 225 * 11\n",
      "Adding columns from song_length_df df; Done in 5.698060989379883 secs. New df´s dimensions are: 225 * 13\n",
      "Adding columns from session_user_df df; Done in 9.384918212890625 secs. New df´s dimensions are: 225 * 15\n",
      "Adding columns from song_user_df df; Done in 6.154990196228027 secs. New df´s dimensions are: 225 * 17\n",
      "Adding columns from user_page_df df; Done in 3.025221824645996 secs. New df´s dimensions are: 225 * 34\n",
      "Adding columns from user_page_df df; Done in 29.464292526245117 secs. New df´s dimensions are: 225 * 51\n",
      "Adding columns from artists_user_fans_df df; Done in 7.073855400085449 secs. New df´s dimensions are: 225 * 52\n",
      "Adding columns from hist_free_pay_df df; Done in 8.732318878173828 secs. New df´s dimensions are: 225 * 53\n",
      "All features added to DataFrame, done in 45975.293827056885\n"
     ]
    }
   ],
   "source": [
    "import time \n",
    "\n",
    "def join_dfs(old_df, df_to_add): \n",
    "    new_df = old_df.join(df_to_add, 'userId', how='inner')\n",
    "    return new_df.dropDuplicates()\n",
    "\n",
    "total_start = time.time()\n",
    "for i, df in enumerate(feat_add_dfs):\n",
    "    start = time.time()\n",
    "    print(f'Adding columns from {feat_add_names[i]} df', end='; ')\n",
    "    all_df = join_dfs(all_df, df)\n",
    "    time_diff = time.time() - start\n",
    "    print (f\"Done in {time_diff*100} secs. New df´s dimensions are: {all_df.count()} * {len(all_df.columns)}\")\n",
    "\n",
    "total_timediff = time.time() - total_start \n",
    "\n",
    "sp_all_df = all_df.orderBy('userId', ascending=True)\n",
    "print(f'All features added to DataFrame, done in {total_timediff*100}')"
   ]
  },
  {
   "cell_type": "code",
   "execution_count": 103,
   "metadata": {},
   "outputs": [
    {
     "data": {
      "text/html": [
       "<div>\n",
       "<style scoped>\n",
       "    .dataframe tbody tr th:only-of-type {\n",
       "        vertical-align: middle;\n",
       "    }\n",
       "\n",
       "    .dataframe tbody tr th {\n",
       "        vertical-align: top;\n",
       "    }\n",
       "\n",
       "    .dataframe thead th {\n",
       "        text-align: right;\n",
       "    }\n",
       "</style>\n",
       "<table border=\"1\" class=\"dataframe\">\n",
       "  <thead>\n",
       "    <tr style=\"text-align: right;\">\n",
       "      <th></th>\n",
       "      <th>userId</th>\n",
       "      <th>churn</th>\n",
       "      <th>gender</th>\n",
       "      <th>OS_Windows_7_on</th>\n",
       "      <th>OS_Linux</th>\n",
       "      <th>OS_MacOS</th>\n",
       "      <th>OS_Iphone</th>\n",
       "      <th>OS_Ipad</th>\n",
       "      <th>OS_Windows_XP</th>\n",
       "      <th>OS_Compatible</th>\n",
       "      <th>...</th>\n",
       "      <th>Roll_Advert</th>\n",
       "      <th>Save_Settings</th>\n",
       "      <th>Settings</th>\n",
       "      <th>Submit_Downgrade</th>\n",
       "      <th>Submit_Upgrade</th>\n",
       "      <th>Thumbs_Down</th>\n",
       "      <th>Thumbs_Up</th>\n",
       "      <th>Upgrade</th>\n",
       "      <th>num_aritst</th>\n",
       "      <th>paid_percent</th>\n",
       "    </tr>\n",
       "  </thead>\n",
       "  <tbody>\n",
       "    <tr>\n",
       "      <th>0</th>\n",
       "      <td>10</td>\n",
       "      <td>0</td>\n",
       "      <td>1</td>\n",
       "      <td>0</td>\n",
       "      <td>0</td>\n",
       "      <td>0</td>\n",
       "      <td>0</td>\n",
       "      <td>0</td>\n",
       "      <td>0</td>\n",
       "      <td>1</td>\n",
       "      <td>...</td>\n",
       "      <td>0.125786</td>\n",
       "      <td>0.125786</td>\n",
       "      <td>0.880503</td>\n",
       "      <td>0.0</td>\n",
       "      <td>0.0</td>\n",
       "      <td>0.503145</td>\n",
       "      <td>4.654088</td>\n",
       "      <td>0.0</td>\n",
       "      <td>566</td>\n",
       "      <td>100.0</td>\n",
       "    </tr>\n",
       "  </tbody>\n",
       "</table>\n",
       "<p>1 rows × 53 columns</p>\n",
       "</div>"
      ],
      "text/plain": [
       "  userId  churn  gender  OS_Windows_7_on  OS_Linux  OS_MacOS  OS_Iphone  \\\n",
       "0     10      0       1                0         0         0          0   \n",
       "\n",
       "   OS_Ipad  OS_Windows_XP  OS_Compatible      ...       Roll_Advert  \\\n",
       "0        0              0              1      ...          0.125786   \n",
       "\n",
       "   Save_Settings  Settings  Submit_Downgrade  Submit_Upgrade  Thumbs_Down  \\\n",
       "0       0.125786  0.880503               0.0             0.0     0.503145   \n",
       "\n",
       "   Thumbs_Up  Upgrade  num_aritst  paid_percent  \n",
       "0   4.654088      0.0         566         100.0  \n",
       "\n",
       "[1 rows x 53 columns]"
      ]
     },
     "execution_count": 103,
     "metadata": {},
     "output_type": "execute_result"
    }
   ],
   "source": [
    "# remove all empty spaces in column names\n",
    "new_col_names = []\n",
    "for name in col_names:\n",
    "    new_col_names.append(name.replace(' ', '_')) \n",
    "pd_all_df.columns = new_col_names\n",
    "pd_all_df.head(1)"
   ]
  },
  {
   "cell_type": "code",
   "execution_count": 104,
   "metadata": {},
   "outputs": [],
   "source": [
    "# Save df to a csv file\n",
    "pd_all_df.to_csv('Sparkify_MLReady_Users2.CSV', index=False)"
   ]
  },
  {
   "cell_type": "markdown",
   "metadata": {},
   "source": [
    "# Modeling\n",
    "Split the full dataset into train, test, and validation sets. Test out several of the machine learning methods you learned. Evaluate the accuracy of the various models, tuning parameters as necessary. Determine your winning model based on test accuracy and report results on the validation set. Since the churned users are a fairly small subset, I suggest using F1 score as the metric to optimize."
   ]
  },
  {
   "cell_type": "code",
   "execution_count": 45,
   "metadata": {},
   "outputs": [
    {
     "name": "stdout",
     "output_type": "stream",
     "text": [
      "root\n",
      " |-- userId: string (nullable = true)\n",
      " |-- churn: string (nullable = true)\n",
      " |-- gender: string (nullable = true)\n",
      " |-- OS_Windows_7_on: string (nullable = true)\n",
      " |-- OS_Linux: string (nullable = true)\n",
      " |-- OS_MacOS: string (nullable = true)\n",
      " |-- OS_Iphone: string (nullable = true)\n",
      " |-- OS_Ipad: string (nullable = true)\n",
      " |-- OS_Windows_XP: string (nullable = true)\n",
      " |-- OS_Compatible: string (nullable = true)\n",
      " |-- num_sessions: string (nullable = true)\n",
      " |-- mean_hours: string (nullable = true)\n",
      " |-- stdev_hours: string (nullable = true)\n",
      " |-- mean_session_h: string (nullable = true)\n",
      " |-- stdev_session_h: string (nullable = true)\n",
      " |-- mean_songs: string (nullable = true)\n",
      " |-- stdev_songs: string (nullable = true)\n",
      " |-- About17: string (nullable = true)\n",
      " |-- Add_Friend18: string (nullable = true)\n",
      " |-- Add_to_Playlist19: string (nullable = true)\n",
      " |-- Downgrade20: string (nullable = true)\n",
      " |-- Error21: string (nullable = true)\n",
      " |-- Help22: string (nullable = true)\n",
      " |-- Home23: string (nullable = true)\n",
      " |-- Logout24: string (nullable = true)\n",
      " |-- NextSong25: string (nullable = true)\n",
      " |-- Roll_Advert26: string (nullable = true)\n",
      " |-- Save_Settings27: string (nullable = true)\n",
      " |-- Settings28: string (nullable = true)\n",
      " |-- Submit_Downgrade29: string (nullable = true)\n",
      " |-- Submit_Upgrade30: string (nullable = true)\n",
      " |-- Thumbs_Down31: string (nullable = true)\n",
      " |-- Thumbs_Up32: string (nullable = true)\n",
      " |-- Upgrade33: string (nullable = true)\n",
      " |-- About34: string (nullable = true)\n",
      " |-- Add_Friend35: string (nullable = true)\n",
      " |-- Add_to_Playlist36: string (nullable = true)\n",
      " |-- Downgrade37: string (nullable = true)\n",
      " |-- Error38: string (nullable = true)\n",
      " |-- Help39: string (nullable = true)\n",
      " |-- Home40: string (nullable = true)\n",
      " |-- Logout41: string (nullable = true)\n",
      " |-- NextSong42: string (nullable = true)\n",
      " |-- Roll_Advert43: string (nullable = true)\n",
      " |-- Save_Settings44: string (nullable = true)\n",
      " |-- Settings45: string (nullable = true)\n",
      " |-- Submit_Downgrade46: string (nullable = true)\n",
      " |-- Submit_Upgrade47: string (nullable = true)\n",
      " |-- Thumbs_Down48: string (nullable = true)\n",
      " |-- Thumbs_Up49: string (nullable = true)\n",
      " |-- Upgrade50: string (nullable = true)\n",
      " |-- num_aritst: string (nullable = true)\n",
      " |-- paid_percent: string (nullable = true)\n",
      "\n"
     ]
    }
   ],
   "source": [
    "final_df = spark.read.csv('Sparkify_MLReady_Users2.CSV', header = True)\n",
    "pd_final_df = final_df.toPandas()\n",
    "\n",
    "final_df.printSchema()"
   ]
  },
  {
   "cell_type": "markdown",
   "metadata": {},
   "source": [
    "### We need to perform some changes to get the model ready for ML\n",
    "1. Fill nulls with zeros fo the whole dataset\n",
    "2. Convert feature´s data types to integers and floats, as they are considered as strings by default"
   ]
  },
  {
   "cell_type": "code",
   "execution_count": 46,
   "metadata": {},
   "outputs": [
    {
     "name": "stdout",
     "output_type": "stream",
     "text": [
      "root\n",
      " |-- userId: integer (nullable = true)\n",
      " |-- churn: integer (nullable = true)\n",
      " |-- gender: integer (nullable = true)\n",
      " |-- OS_Windows_7_on: integer (nullable = true)\n",
      " |-- OS_Linux: integer (nullable = true)\n",
      " |-- OS_MacOS: integer (nullable = true)\n",
      " |-- OS_Iphone: integer (nullable = true)\n",
      " |-- OS_Ipad: integer (nullable = true)\n",
      " |-- OS_Windows_XP: integer (nullable = true)\n",
      " |-- OS_Compatible: integer (nullable = true)\n",
      " |-- num_sessions: float (nullable = true)\n",
      " |-- mean_hours: float (nullable = true)\n",
      " |-- stdev_hours: float (nullable = true)\n",
      " |-- mean_session_h: float (nullable = true)\n",
      " |-- stdev_session_h: float (nullable = true)\n",
      " |-- mean_songs: float (nullable = true)\n",
      " |-- stdev_songs: float (nullable = true)\n",
      " |-- About17: float (nullable = true)\n",
      " |-- Add_Friend18: float (nullable = true)\n",
      " |-- Add_to_Playlist19: float (nullable = true)\n",
      " |-- Downgrade20: float (nullable = true)\n",
      " |-- Error21: float (nullable = true)\n",
      " |-- Help22: float (nullable = true)\n",
      " |-- Home23: float (nullable = true)\n",
      " |-- Logout24: float (nullable = true)\n",
      " |-- NextSong25: float (nullable = true)\n",
      " |-- Roll_Advert26: float (nullable = true)\n",
      " |-- Save_Settings27: float (nullable = true)\n",
      " |-- Settings28: float (nullable = true)\n",
      " |-- Submit_Downgrade29: float (nullable = true)\n",
      " |-- Submit_Upgrade30: float (nullable = true)\n",
      " |-- Thumbs_Down31: float (nullable = true)\n",
      " |-- Thumbs_Up32: float (nullable = true)\n",
      " |-- Upgrade33: float (nullable = true)\n",
      " |-- About34: float (nullable = true)\n",
      " |-- Add_Friend35: float (nullable = true)\n",
      " |-- Add_to_Playlist36: float (nullable = true)\n",
      " |-- Downgrade37: float (nullable = true)\n",
      " |-- Error38: float (nullable = true)\n",
      " |-- Help39: float (nullable = true)\n",
      " |-- Home40: float (nullable = true)\n",
      " |-- Logout41: float (nullable = true)\n",
      " |-- NextSong42: float (nullable = true)\n",
      " |-- Roll_Advert43: float (nullable = true)\n",
      " |-- Save_Settings44: float (nullable = true)\n",
      " |-- Settings45: float (nullable = true)\n",
      " |-- Submit_Downgrade46: float (nullable = true)\n",
      " |-- Submit_Upgrade47: float (nullable = true)\n",
      " |-- Thumbs_Down48: float (nullable = true)\n",
      " |-- Thumbs_Up49: float (nullable = true)\n",
      " |-- Upgrade50: float (nullable = true)\n",
      " |-- num_aritst: float (nullable = true)\n",
      " |-- paid_percent: float (nullable = true)\n",
      "\n"
     ]
    }
   ],
   "source": [
    "# Replace nans with zeros in the whole dataset\n",
    "final_df = final_df.na.fill(0)\n",
    "\n",
    "# All columns to OS_Compatible will be converted to integers\n",
    "for col in final_df.columns[:10]:\n",
    "    final_df = final_df.withColumn(col, final_df[col].cast(sT.IntegerType()))\n",
    "# Rest of the df will be treated as floats\n",
    "for col in final_df.columns[10:]:\n",
    "    final_df = final_df.withColumn(col, final_df[col].cast(sT.FloatType()))\n",
    "\n",
    "# Check columns data types\n",
    "final_df.printSchema()"
   ]
  },
  {
   "cell_type": "markdown",
   "metadata": {},
   "source": [
    "### ... and more\n",
    "\n",
    "3. Create vectorassembler object and transform the data with it\n",
    "4. Scale data with StandardScaler (in this case, we could have used others)\n",
    "5. Select 'label' feature and create the 'features' column incuding all input features.\n",
    "6. Split datset into training and testing"
   ]
  },
  {
   "cell_type": "code",
   "execution_count": 47,
   "metadata": {},
   "outputs": [
    {
     "name": "stdout",
     "output_type": "stream",
     "text": [
      "+-----+--------------------+\n",
      "|label|            features|\n",
      "+-----+--------------------+\n",
      "|    0|[0.92503195288915...|\n",
      "|    0|[0.92503195288915...|\n",
      "+-----+--------------------+\n",
      "only showing top 2 rows\n",
      "\n",
      "+-----+--------------------+\n",
      "|label|            features|\n",
      "+-----+--------------------+\n",
      "|    0|[-1.0762390990345...|\n",
      "|    0|[-1.0762390990345...|\n",
      "+-----+--------------------+\n",
      "only showing top 2 rows\n",
      "\n",
      "+-----+--------------------+\n",
      "|label|            features|\n",
      "+-----+--------------------+\n",
      "|    0|[-1.0762390990345...|\n",
      "|    0|[-1.0762390990345...|\n",
      "+-----+--------------------+\n",
      "only showing top 2 rows\n",
      "\n"
     ]
    },
    {
     "data": {
      "text/plain": [
       "(None, None)"
      ]
     },
     "execution_count": 47,
     "metadata": {},
     "output_type": "execute_result"
    }
   ],
   "source": [
    "# Create vectorAssembler for input feats\n",
    "features_vector = VectorAssembler(inputCols=final_df.columns[2:], outputCol='features')\n",
    "# Apply to dataset\n",
    "data = features_vector.transform(final_df)\n",
    "\n",
    "# Scale dataset using StandardScaler (we could have used other, even add it to grid)\n",
    "scaler = StandardScaler(withMean=True, withStd=True, inputCol='features', outputCol='features_scaled')\n",
    "# Use it to FIT and TRANSFORM dataset\n",
    "scaler_fit = scaler.fit(data)\n",
    "scaled_data = scaler_fit.transform(data)\n",
    "\n",
    "# Select the output and input features\n",
    "model_data = scaled_data.select(scaled_data.churn.alias('label'), scaled_data.features_scaled.alias('features'))\n",
    "\n",
    "# check\n",
    "model_data.show(2)\n",
    "\n",
    "# Defining training and testing samples\n",
    "train, test = model_data.randomSplit([0.80, 0.20], seed=164)\n",
    "\n",
    "# Check\n",
    "train.show(2), test.show(2)"
   ]
  },
  {
   "cell_type": "markdown",
   "metadata": {},
   "source": [
    "### Functions\n",
    "We´ll define some functions to make the code modular and the modelling process easier to understand:\n",
    "1. string_time --> Function to convert time difference into a string  easy to understand.\n",
    "2. model_fitting --> Function to fit a given model to a dataset, with some adittional inputable arguments\n",
    "3. get_metrics --> Function to predict and measure performance of a model based on accuracy and F1 Score."
   ]
  },
  {
   "cell_type": "code",
   "execution_count": 48,
   "metadata": {},
   "outputs": [],
   "source": [
    "# Define a function to convert time difference in a readable format with the goal\n",
    "# of measuring the time spent to train each model\n",
    "def string_time(t_dif):\n",
    "    minutes = 0\n",
    "    if t_dif > 60 :\n",
    "        minutes = round(t_dif / 60)\n",
    "        secs = t_dif - (minutes * 60) \n",
    "    else:\n",
    "        secs = t_dif\n",
    "    stamp = '{} minutes and {} seconds'.format(minutes, secs)\n",
    "    return stamp\n",
    "\n",
    "\n",
    "\n",
    "# Define a function to train a model with a given dataset, including \n",
    "# crossvalidation and tuning hyperparameters using grid\n",
    "def model_fitting(df, model_to_use, param_grid, save_path, folds = 3, random_seed = 164):\n",
    "    '''\n",
    "    INPUT\n",
    "    df : data to fit the model with\n",
    "    model_to_use : model to fit\n",
    "    param_grid : object defining different hyperparameters to tune the model\n",
    "    save_path : name to save the model with\n",
    "    folds : number of folds for cross validation \n",
    "    random_seed : seed for the random selection in the cross validation\n",
    "    OUTPUT\n",
    "    \n",
    "    '''\n",
    "    model_evaluator = CrossValidator(estimator = model_to_use, estimatorParamMaps = param_grid,\n",
    "                                      evaluator = MulticlassClassificationEvaluator(metricName='f1'),\n",
    "                                      numFolds = folds, seed = random_seed)\n",
    "    t_start = time.time()\n",
    "    print ('Fitting model {}'.format(model_to_use))\n",
    "    model_fit = model_evaluator.fit(df)\n",
    "    diff_time = time.time() - t_start\n",
    "    print ('Model fitted in {}'.format(string_time(diff_time)))\n",
    "    t_start = time.time()\n",
    "    print ('Save model as {}...'.format(save_path))\n",
    "    # Try to save, if it already exists, we have to define the error exception as it will give an error\n",
    "    try:\n",
    "        model_fit.save(save_path)\n",
    "        print ('Creating the model file', end='')\n",
    "    except:\n",
    "        model_fit.write().overwrite().save(save_path)\n",
    "        print ('Overwriting existing model with same name', end='')\n",
    "    diff_time = time.time() - t_start\n",
    "    print ('Finished in {}'.format(string_time(diff_time)))\n",
    "    return model_fit\n",
    "\n",
    "\n",
    "\n",
    "# Define a Function to predict based on test or train, \n",
    "# and get accuracy and f1_score metrics for the given model\n",
    "def get_metrics(model, data, name):\n",
    "    '''\n",
    "    INPUT\n",
    "    model : trained model we want to measure performance\n",
    "    data : train or test set calculate metrics\n",
    "    OUTPUT\n",
    "    This function does not return any output, it just prints \n",
    "    the name of the model followed by the accuracy and f1_score\n",
    "    '''\n",
    "    results = model.transform(data)\n",
    "    \n",
    "    evaluator_accuracy = MulticlassClassificationEvaluator(metricName='accuracy')\n",
    "    accuracy = evaluator_accuracy.evaluate(results.select('label', 'prediction'))\n",
    "    evaluator_f1_score = MulticlassClassificationEvaluator(metricName='f1')\n",
    "    f1_score = evaluator_f1_score.evaluate(results.select('label', 'prediction'))\n",
    "    \n",
    "    print('For {}, the accuracy on the {} set is {:.2%} and the F-1 score is {:.2%}'\\\n",
    "    .format(name_to_save, name, accuracy, f1_score))"
   ]
  },
  {
   "cell_type": "markdown",
   "metadata": {},
   "source": [
    "### Random Forest Classifier\n",
    "Hyperparameters defined in our GridSearchCV:  \n",
    "- **minInfoGain**: Minimum amount of information gained about a variable when performing a split within a decision tree. Do not make the split if we´re not going to adquire less info than minInfoGain value.\n",
    "- **numTrees**: Number of trees to be created within the forest ensemble. \n",
    "- **maxDepth**: maximum number of splitting levels to structure the data each tree from the GBT ensemble can go. Important to limit it for preventing the model from learn the data and not the trends from it, the so called overfitting."
   ]
  },
  {
   "cell_type": "code",
   "execution_count": 69,
   "metadata": {},
   "outputs": [
    {
     "name": "stdout",
     "output_type": "stream",
     "text": [
      "Fitting model RandomForestClassifier_9bcb5da61844\n",
      "Model fitted in 0 minutes and 39.724337339401245 seconds\n",
      "Save model as Random Forest...\n",
      "Overwriting existing model with same nameFinished in 0 minutes and 0.7511279582977295 seconds\n",
      "For Random Forest, the accuracy on the train set is 100.00% and the F-1 score is 100.00%\n",
      "For Random Forest, the accuracy on the test set is 72.50% and the F-1 score is 63.04%\n"
     ]
    }
   ],
   "source": [
    "model = RandomForestClassifier()\n",
    "param_grid = ParamGridBuilder() \\\n",
    "    .addGrid(model.minInfoGain, [0, 1]) \\\n",
    "    .addGrid(model.numTrees, [20, 50]) \\\n",
    "    .addGrid(model.maxDepth, [5, 10]) \\\n",
    "    .build()\n",
    "\n",
    "name_to_save = 'Random Forest'\n",
    "\n",
    "model = model_fitting(train, model, param_grid, name_to_save, folds = 5)\n",
    "get_metrics(model, train, 'train')\n",
    "get_metrics(model, test, 'test')"
   ]
  },
  {
   "cell_type": "markdown",
   "metadata": {},
   "source": [
    "### Logistic Regression\n",
    "\n",
    "Hyperparameters defined in our GridSearchCV: \n",
    "\n",
    "Regularization parameters, to try the model between L1 and L2:\n",
    "- **elasticNetParam** (alpha): The elastic net penalty is defined to set a point in between a Lasso model (elasticparam=1, removing degeneracies caused by hard correlations) and a Ridge method (elasticParam=0, shrinking coefficients of correlated variables). For alpha = 0.0, the penalty is an L2 penalty. For alpha = 1.0, it is an L1 penalty. For 0.0 < alpha < 1.0, the penalty is a combination of L1 and L2. Default is 0.0 which is an L2 penalty\n",
    "- **regParam** (lambda):  regularization parameter, used to add additional information to fix ill-posed problems.\n",
    "\n",
    "Other:\n",
    "- **aggregationDepth**: Depth for tree Aggregations performed by Spark when performing training. If feature´s dimensions or number of partitions are large, this param could be set larger.\n"
   ]
  },
  {
   "cell_type": "code",
   "execution_count": 70,
   "metadata": {},
   "outputs": [
    {
     "name": "stdout",
     "output_type": "stream",
     "text": [
      "Fitting model LogisticRegression_b7bb95456569\n",
      "Model fitted in 1 minutes and 23.419886827468872 seconds\n",
      "Save model as Logistic Regression...\n",
      "Overwriting existing model with same nameFinished in 0 minutes and 0.5853111743927002 seconds\n",
      "For Logistic Regression, the accuracy on the train set is 80.54% and the F-1 score is 76.06%\n",
      "For Logistic Regression, the accuracy on the test set is 77.50% and the F-1 score is 74.62%\n"
     ]
    }
   ],
   "source": [
    "model = LogisticRegression()\n",
    "param_grid = ParamGridBuilder() \\\n",
    "    .addGrid(model.regParam,[0.01, 0.1]) \\\n",
    "    .addGrid(model.elasticNetParam,[0.0, 0.5]) \\\n",
    "    .addGrid(model.aggregationDepth,[2, 5]) \\\n",
    "    .build()\n",
    "name_to_save = 'Logistic Regression'\n",
    "\n",
    "model = model_fitting(train, model, param_grid, name_to_save, folds = 5)\n",
    "\n",
    "get_metrics(model, train, 'train')\n",
    "get_metrics(model, test, 'test')"
   ]
  },
  {
   "cell_type": "markdown",
   "metadata": {},
   "source": [
    "### Gradient Boosting Tree \n",
    "\n",
    "Hyperparameters defined in our GridSearchCV: \n",
    "- **maxDepth**: maximum number of splitting levels to structure the data each tree from the GBT ensemble can go. It is crucial to limit it in order to prevent overfitting. Otherwise the model would learn the data and not the trends from it, which is the goal.\n",
    "- **maxBins**: maximum numbers of \"bags\" where the trees store values in each split. If it splits info contained within a bin in level 0, the maximum number of bins to divide that info is defined with maxBins.\n",
    "- **maxIter**: Maximum number of iterations, in this case number of trees in the GBT ensemble"
   ]
  },
  {
   "cell_type": "code",
   "execution_count": 11,
   "metadata": {
    "scrolled": true
   },
   "outputs": [
    {
     "name": "stdout",
     "output_type": "stream",
     "text": [
      "Fitting model GBTClassifier_72f47db1fde5\n",
      "Model fitted in 10 minutes and -6.184101819992065 seconds\n",
      "Save model as Gradient Boosting Class...\n",
      "Overwriting existing model with same nameFinished in 0 minutes and 3.705993413925171 seconds\n",
      "For Gradient Boosting Class, the accuracy on the train set is 100.00% and the F-1 score is 100.00%\n",
      "For Gradient Boosting Class, the accuracy on the test set is 80.00% and the F-1 score is 76.62%\n"
     ]
    }
   ],
   "source": [
    "model = GBTClassifier()\n",
    "param_grid = ParamGridBuilder() \\\n",
    "    .addGrid(model.maxDepth,[4,10]) \\\n",
    "    .addGrid(model.maxBins ,[15, 20]) \\\n",
    "    .addGrid(model.maxIter ,[20, 30]) \\\n",
    "    .build()\n",
    "\n",
    "name_to_save = 'Gradient Boosting Class'\n",
    "\n",
    "model = model_fitting(train, model, param_grid, name_to_save, folds = 5)\n",
    "\n",
    "get_metrics(model, train, 'train')\n",
    "get_metrics(model, test, 'test')"
   ]
  },
  {
   "cell_type": "markdown",
   "metadata": {},
   "source": [
    "# Model analysis\n",
    "\n",
    "For the present analysis, it is crucial to take into account that just tracking accuracy can be misleading for two main reasons:\n",
    "- The **small size** of the ML Ready Dataset (just around 250 users)\n",
    "- The **imbalance between classes**\n",
    "So we have been keeping track of F1 Score along with accuracy for the three models tried:\n",
    "\n",
    "**After training ang tuning these 3 different classifiers**, results show:\n",
    "- **Random forest** performs simply perfect (Accuracy 100%) with training set but significantly worse with test (Accuracy 72,5%), showing a clear case of overfitting, typical in Random Forests when not setting a limit for depth. It could be improved working harder in the grid hyperparameters tuning\n",
    "- **Logistic Regression** performs smoothly and quite similarly both in train (80.54% Acc) and test (77,5% Acc), with a nice F1 Score results(76% train, 74% test), assuring us a good balance between Precision and Recall. Nice efficiency while training, making it a nice candidate to be the chosen one.\n",
    "- **GBT** although its results (both accuracy and F1 Score) for the test set are even better than Logistic Regression, it shows symptoms of overfitting as it is essentially a boosted random forest. Again it could be fixed by working in hyperpameter tuning and extending the number of folds in Cross Validation. The fitting time is a bit longer than the other two, though."
   ]
  },
  {
   "cell_type": "markdown",
   "metadata": {},
   "source": [
    "## Selected model\n",
    "**Logistic Regression** seems to be the best candidate for the present job, so we should dig deeper to understand it´s performance:"
   ]
  },
  {
   "cell_type": "markdown",
   "metadata": {},
   "source": [
    "### Model parameters\n",
    "We performed a GridSearch trying different combinations of hyperparameters with the goal of achieving the best possible model. It is interesting to look at those parameters for the resulting \"bestModel\" within all the Logistic Regressions tried."
   ]
  },
  {
   "cell_type": "code",
   "execution_count": 96,
   "metadata": {},
   "outputs": [
    {
     "name": "stdout",
     "output_type": "stream",
     "text": [
      "After gridsearch, the parameters we optimized resulted in a bestModel with:\n",
      "- regParam = 0.01\n",
      "- elasticNetParam = 0.5\n",
      "- aggregationDepth = 2. It was the default value recommended by Spark\n",
      "Both regularization parameters ended up with a solution in betwwen L1 an L2\n",
      "\n",
      "\n",
      "Find below a df with resulting values for all hyperparameters \n",
      "for the Logistic Regresion bestModel obtained after Grid Search:\n"
     ]
    },
    {
     "data": {
      "text/html": [
       "<div>\n",
       "<style scoped>\n",
       "    .dataframe tbody tr th:only-of-type {\n",
       "        vertical-align: middle;\n",
       "    }\n",
       "\n",
       "    .dataframe tbody tr th {\n",
       "        vertical-align: top;\n",
       "    }\n",
       "\n",
       "    .dataframe thead th {\n",
       "        text-align: right;\n",
       "    }\n",
       "</style>\n",
       "<table border=\"1\" class=\"dataframe\">\n",
       "  <thead>\n",
       "    <tr style=\"text-align: right;\">\n",
       "      <th></th>\n",
       "      <th>value</th>\n",
       "    </tr>\n",
       "  </thead>\n",
       "  <tbody>\n",
       "    <tr>\n",
       "      <th>family</th>\n",
       "      <td>auto</td>\n",
       "    </tr>\n",
       "    <tr>\n",
       "      <th>featuresCol</th>\n",
       "      <td>features</td>\n",
       "    </tr>\n",
       "    <tr>\n",
       "      <th>fitIntercept</th>\n",
       "      <td>True</td>\n",
       "    </tr>\n",
       "    <tr>\n",
       "      <th>labelCol</th>\n",
       "      <td>label</td>\n",
       "    </tr>\n",
       "    <tr>\n",
       "      <th>maxIter</th>\n",
       "      <td>100</td>\n",
       "    </tr>\n",
       "    <tr>\n",
       "      <th>predictionCol</th>\n",
       "      <td>prediction</td>\n",
       "    </tr>\n",
       "    <tr>\n",
       "      <th>probabilityCol</th>\n",
       "      <td>probability</td>\n",
       "    </tr>\n",
       "    <tr>\n",
       "      <th>rawPredictionCol</th>\n",
       "      <td>rawPrediction</td>\n",
       "    </tr>\n",
       "    <tr>\n",
       "      <th>standardization</th>\n",
       "      <td>True</td>\n",
       "    </tr>\n",
       "    <tr>\n",
       "      <th>threshold</th>\n",
       "      <td>0.5</td>\n",
       "    </tr>\n",
       "    <tr>\n",
       "      <th>tol</th>\n",
       "      <td>1e-06</td>\n",
       "    </tr>\n",
       "    <tr>\n",
       "      <th>aggregationDepth</th>\n",
       "      <td>2</td>\n",
       "    </tr>\n",
       "    <tr>\n",
       "      <th>elasticNetParam</th>\n",
       "      <td>0.5</td>\n",
       "    </tr>\n",
       "    <tr>\n",
       "      <th>regParam</th>\n",
       "      <td>0.01</td>\n",
       "    </tr>\n",
       "  </tbody>\n",
       "</table>\n",
       "</div>"
      ],
      "text/plain": [
       "                          value\n",
       "family                     auto\n",
       "featuresCol            features\n",
       "fitIntercept               True\n",
       "labelCol                  label\n",
       "maxIter                     100\n",
       "predictionCol        prediction\n",
       "probabilityCol      probability\n",
       "rawPredictionCol  rawPrediction\n",
       "standardization            True\n",
       "threshold                   0.5\n",
       "tol                       1e-06\n",
       "aggregationDepth              2\n",
       "elasticNetParam             0.5\n",
       "regParam                   0.01"
      ]
     },
     "execution_count": 96,
     "metadata": {},
     "output_type": "execute_result"
    }
   ],
   "source": [
    "best = model.bestModel\n",
    "param_names_raw = best.extractParamMap().keys()\n",
    "param_names_clean = []\n",
    "for param in param_names:\n",
    "    param_names_clean.append(str(param).split('__')[1]) \n",
    "    \n",
    "param_values = list(best.extractParamMap().values())\n",
    "\n",
    "params_df = pd.DataFrame(param_values,index=param_names_clean, columns = ['value'])\n",
    "\n",
    "print(f'After gridsearch, the parameters we optimized resulted in a bestModel with:')\n",
    "print('- regParam = {}'.format(params_df.loc['regParam'][0]))\n",
    "print('- elasticNetParam = {}'.format(params_df.loc['elasticNetParam'][0]))\n",
    "print('- aggregationDepth = {}. It was the default value recommended by Spark'.format(params_df.loc['aggregationDepth'][0]))\n",
    "print('Both regularization parameters ended up with a solution in betwwen L1 an L2')\n",
    "print('\\n')\n",
    "print('Find below a df with resulting values for all hyperparameters ')\n",
    "print('for the Logistic Regresion bestModel obtained after Grid Search:')\n",
    "\n",
    "params_df"
   ]
  },
  {
   "cell_type": "markdown",
   "metadata": {},
   "source": [
    "### Feature importance\n",
    "\n",
    "When training and predicting with a classifier, it is often important to give a clear explanation of what is going on within the \"black box\". MLearning is not a matter of faith but of math and common sense, so being able to explain the inffluence of each of the features to the prediction is crucial when explaining what the model is doing and what data is more important for the sake of the prediction."
   ]
  },
  {
   "cell_type": "code",
   "execution_count": 49,
   "metadata": {
    "scrolled": false
   },
   "outputs": [
    {
     "data": {
      "image/png": "[encoded data removed]",
      "text/plain": [
       "<matplotlib.figure.Figure at 0x7fb9cd477da0>"
      ]
     },
     "metadata": {
      "needs_background": "light"
     },
     "output_type": "display_data"
    }
   ],
   "source": [
    "# Store feature names in an array\n",
    "feat_names = final_df.columns[2:]\n",
    "# Load selected model(LogReg) and extract feature coefficients\n",
    "model = mlm.load('Logistic Regression')\n",
    "feat_coeff = list(model.bestModel.coefficientMatrix.toArray()[0])\n",
    "# Create a df with coeffieicnets an thei correspondant feature name\n",
    "df = pd.DataFrame(feat_coeff, columns = ['feature coefficient'], index = feat_names) \\\n",
    "                .sort_values(by = 'feature coefficient', ascending = False)\n",
    "\n",
    "# Plot feature importance for the selected model\n",
    "ax = df.plot(kind='bar', figsize=(14,4), color = ['#617491']);\n",
    "ax.set_ylabel('Coefficient per feature')\n",
    "ax.set_title('Importance of features in the churn decision');\n",
    "ax.yaxis.tick_right()"
   ]
  },
  {
   "cell_type": "markdown",
   "metadata": {},
   "source": [
    "As shown in the chart above, there are:\n",
    "- Several **features with almost no inffluence in the churn decision** as ThumbsUp, number of songs and artists, length of session, or some pages (Help, Settings). \n",
    "- Some **features directly related with churning**, as Percentage of paid songs, Roll Advert, Downgrade, Thumbs Down, or OS as Windows or Ipad, meaning that if a user shows this behavioural or static information is more prone to churn. \n",
    "- In addition there are several **inversely related features with the churn decision** as OS Linux, MacOS and Iphone, number of sessions, adding friends or visiting Home page. Users showing this info are prone to remain as paid users.\n",
    "\n",
    "\n",
    "### Improving the selected model\n",
    "It seems that Logistic Regression is the best candidate for the present job, so we could refine even more its performance:\n",
    "- Expanding the size of our dataset with information of more users, helping the model to generalize to new data as it would be learning from a much bigger sample of a population. The present mini subset is quite limited in this terms. However we can use the same code to perform Machine Learning Classification with the whole dataset (12GB) as it´s been written in Spark for Big Data situations.\n",
    "- Getting deeper in feature engineering to develop new features (based on the information we already have) that can potentially have predictive power and improve the performance of the model, in this case the Logistic Regression Classifier. Some of the features we should start with are the ones related to location, as 'state', a feature we have excluded from the final_df but regarding the chart showed in the data exploration part, could have relevant influence in our predictive job.\n",
    "- Trying more combinations of hyperparameters, including trying more folds in Cross Validation.\n",
    "\n",
    "### Improvements in production\n",
    "\n",
    "- For a company depending on monthly paying users, leveraging a model of this characteristics is crucial, as they can address users with a risk of being cancelling their suscriptions with around 80% of accuracy. The obvious error addressing False Positive Users should not be relevant, as they will likely be grateful with the company after receiving discounts or offers. Other action to tke could be improving interfaces and apps or even decreasing price for the OS where users seem to be less satisfied with the service (Windows in our analysis, specially with old versions).\n",
    "\n",
    "- It is important to retrain the model to avoid making decisions based on outdated data. Specially in the changing world we live, users behaviours change fast and unpredictably. The only way is keeping track of their behavioural data to make decisions based on the most updated data we can get.\n"
   ]
  },
  {
   "cell_type": "markdown",
   "metadata": {},
   "source": [
    "# Final Steps\n",
    "Clean up your code, adding comments and renaming variables to make the code easier to read and maintain. Refer to the Spark Project Overview page and Data Scientist Capstone Project Rubric to make sure you are including all components of the capstone project and meet all expectations. Remember, this includes thorough documentation in a README file in a Github repository, as well as a web app or blog post."
   ]
  }
 ],
 "metadata": {
  "kernelspec": {
   "display_name": "Python 3",
   "language": "python",
   "name": "python3"
  },
  "language_info": {
   "codemirror_mode": {
    "name": "ipython",
    "version": 3
   },
   "file_extension": ".py",
   "mimetype": "text/x-python",
   "name": "python",
   "nbconvert_exporter": "python",
   "pygments_lexer": "ipython3",
   "version": "3.6.3"
  }
 },
 "nbformat": 4,
 "nbformat_minor": 2
}
